{
 "cells": [
  {
   "cell_type": "code",
   "execution_count": 2,
   "metadata": {},
   "outputs": [],
   "source": [
    "import matplotlib.pyplot as plt\n",
    "import numpy as np\n",
    "import pandas as pd\n",
    "import seaborn as sns\n",
    "from scipy import stats\n",
    "from sklearn.preprocessing import StandardScaler\n",
    "from statsmodels.stats.proportion import proportions_ztest\n",
    "from statsmodels.stats.power import TTestIndPower\n",
    "from statsmodels.api import qqplot\n",
    "\n",
    "%matplotlib inline"
   ]
  },
  {
   "cell_type": "markdown",
   "metadata": {},
   "source": [
    "## データ準備"
   ]
  },
  {
   "cell_type": "code",
   "execution_count": 4,
   "metadata": {},
   "outputs": [
    {
     "data": {
      "text/html": [
       "<div>\n",
       "<style scoped>\n",
       "    .dataframe tbody tr th:only-of-type {\n",
       "        vertical-align: middle;\n",
       "    }\n",
       "\n",
       "    .dataframe tbody tr th {\n",
       "        vertical-align: top;\n",
       "    }\n",
       "\n",
       "    .dataframe thead th {\n",
       "        text-align: right;\n",
       "    }\n",
       "</style>\n",
       "<table border=\"1\" class=\"dataframe\">\n",
       "  <thead>\n",
       "    <tr style=\"text-align: right;\">\n",
       "      <th></th>\n",
       "      <th>total_bill</th>\n",
       "      <th>tip</th>\n",
       "      <th>sex</th>\n",
       "      <th>smoker</th>\n",
       "      <th>day</th>\n",
       "      <th>time</th>\n",
       "      <th>size</th>\n",
       "      <th>tip_rate</th>\n",
       "    </tr>\n",
       "  </thead>\n",
       "  <tbody>\n",
       "    <tr>\n",
       "      <th>0</th>\n",
       "      <td>16.99</td>\n",
       "      <td>1.01</td>\n",
       "      <td>Female</td>\n",
       "      <td>No</td>\n",
       "      <td>Sun</td>\n",
       "      <td>Dinner</td>\n",
       "      <td>2</td>\n",
       "      <td>0.059447</td>\n",
       "    </tr>\n",
       "    <tr>\n",
       "      <th>1</th>\n",
       "      <td>10.34</td>\n",
       "      <td>1.66</td>\n",
       "      <td>Male</td>\n",
       "      <td>No</td>\n",
       "      <td>Sun</td>\n",
       "      <td>Dinner</td>\n",
       "      <td>3</td>\n",
       "      <td>0.160542</td>\n",
       "    </tr>\n",
       "    <tr>\n",
       "      <th>2</th>\n",
       "      <td>21.01</td>\n",
       "      <td>3.50</td>\n",
       "      <td>Male</td>\n",
       "      <td>No</td>\n",
       "      <td>Sun</td>\n",
       "      <td>Dinner</td>\n",
       "      <td>3</td>\n",
       "      <td>0.166587</td>\n",
       "    </tr>\n",
       "    <tr>\n",
       "      <th>3</th>\n",
       "      <td>23.68</td>\n",
       "      <td>3.31</td>\n",
       "      <td>Male</td>\n",
       "      <td>No</td>\n",
       "      <td>Sun</td>\n",
       "      <td>Dinner</td>\n",
       "      <td>2</td>\n",
       "      <td>0.139780</td>\n",
       "    </tr>\n",
       "    <tr>\n",
       "      <th>4</th>\n",
       "      <td>24.59</td>\n",
       "      <td>3.61</td>\n",
       "      <td>Female</td>\n",
       "      <td>No</td>\n",
       "      <td>Sun</td>\n",
       "      <td>Dinner</td>\n",
       "      <td>4</td>\n",
       "      <td>0.146808</td>\n",
       "    </tr>\n",
       "    <tr>\n",
       "      <th>...</th>\n",
       "      <td>...</td>\n",
       "      <td>...</td>\n",
       "      <td>...</td>\n",
       "      <td>...</td>\n",
       "      <td>...</td>\n",
       "      <td>...</td>\n",
       "      <td>...</td>\n",
       "      <td>...</td>\n",
       "    </tr>\n",
       "    <tr>\n",
       "      <th>239</th>\n",
       "      <td>29.03</td>\n",
       "      <td>5.92</td>\n",
       "      <td>Male</td>\n",
       "      <td>No</td>\n",
       "      <td>Sat</td>\n",
       "      <td>Dinner</td>\n",
       "      <td>3</td>\n",
       "      <td>0.203927</td>\n",
       "    </tr>\n",
       "    <tr>\n",
       "      <th>240</th>\n",
       "      <td>27.18</td>\n",
       "      <td>2.00</td>\n",
       "      <td>Female</td>\n",
       "      <td>Yes</td>\n",
       "      <td>Sat</td>\n",
       "      <td>Dinner</td>\n",
       "      <td>2</td>\n",
       "      <td>0.073584</td>\n",
       "    </tr>\n",
       "    <tr>\n",
       "      <th>241</th>\n",
       "      <td>22.67</td>\n",
       "      <td>2.00</td>\n",
       "      <td>Male</td>\n",
       "      <td>Yes</td>\n",
       "      <td>Sat</td>\n",
       "      <td>Dinner</td>\n",
       "      <td>2</td>\n",
       "      <td>0.088222</td>\n",
       "    </tr>\n",
       "    <tr>\n",
       "      <th>242</th>\n",
       "      <td>17.82</td>\n",
       "      <td>1.75</td>\n",
       "      <td>Male</td>\n",
       "      <td>No</td>\n",
       "      <td>Sat</td>\n",
       "      <td>Dinner</td>\n",
       "      <td>2</td>\n",
       "      <td>0.098204</td>\n",
       "    </tr>\n",
       "    <tr>\n",
       "      <th>243</th>\n",
       "      <td>18.78</td>\n",
       "      <td>3.00</td>\n",
       "      <td>Female</td>\n",
       "      <td>No</td>\n",
       "      <td>Thur</td>\n",
       "      <td>Dinner</td>\n",
       "      <td>2</td>\n",
       "      <td>0.159744</td>\n",
       "    </tr>\n",
       "  </tbody>\n",
       "</table>\n",
       "<p>244 rows × 8 columns</p>\n",
       "</div>"
      ],
      "text/plain": [
       "     total_bill   tip     sex smoker   day    time  size  tip_rate\n",
       "0         16.99  1.01  Female     No   Sun  Dinner     2  0.059447\n",
       "1         10.34  1.66    Male     No   Sun  Dinner     3  0.160542\n",
       "2         21.01  3.50    Male     No   Sun  Dinner     3  0.166587\n",
       "3         23.68  3.31    Male     No   Sun  Dinner     2  0.139780\n",
       "4         24.59  3.61  Female     No   Sun  Dinner     4  0.146808\n",
       "..          ...   ...     ...    ...   ...     ...   ...       ...\n",
       "239       29.03  5.92    Male     No   Sat  Dinner     3  0.203927\n",
       "240       27.18  2.00  Female    Yes   Sat  Dinner     2  0.073584\n",
       "241       22.67  2.00    Male    Yes   Sat  Dinner     2  0.088222\n",
       "242       17.82  1.75    Male     No   Sat  Dinner     2  0.098204\n",
       "243       18.78  3.00  Female     No  Thur  Dinner     2  0.159744\n",
       "\n",
       "[244 rows x 8 columns]"
      ]
     },
     "execution_count": 4,
     "metadata": {},
     "output_type": "execute_result"
    }
   ],
   "source": [
    "# データのロード\n",
    "df = sns.load_dataset('tips')\n",
    "# チップ率を計算\n",
    "df['tip_rate'] = df['tip'] / df['total_bill']\n",
    "df"
   ]
  },
  {
   "cell_type": "markdown",
   "metadata": {},
   "source": [
    "## 分布の描画"
   ]
  },
  {
   "cell_type": "code",
   "execution_count": 3,
   "metadata": {},
   "outputs": [
    {
     "data": {
      "text/plain": [
       "<seaborn.axisgrid.FacetGrid at 0x2844272bd90>"
      ]
     },
     "execution_count": 3,
     "metadata": {},
     "output_type": "execute_result"
    },
    {
     "data": {
      "image/png": "[encoded data removed]",
      "text/plain": [
       "<Figure size 500x500 with 1 Axes>"
      ]
     },
     "metadata": {},
     "output_type": "display_data"
    }
   ],
   "source": [
    "sns.displot(df['tip'], kde=True, bins=10)"
   ]
  },
  {
   "cell_type": "code",
   "execution_count": 4,
   "metadata": {},
   "outputs": [
    {
     "data": {
      "text/plain": [
       "<seaborn.axisgrid.FacetGrid at 0x2844276f610>"
      ]
     },
     "execution_count": 4,
     "metadata": {},
     "output_type": "execute_result"
    },
    {
     "data": {
      "image/png": "[encoded data removed]",
      "text/plain": [
       "<Figure size 500x500 with 1 Axes>"
      ]
     },
     "metadata": {},
     "output_type": "display_data"
    }
   ],
   "source": [
    "sns.catplot(x='time', data=df , kind='count')"
   ]
  },
  {
   "cell_type": "markdown",
   "metadata": {},
   "source": [
    "### 平均値"
   ]
  },
  {
   "cell_type": "code",
   "execution_count": 5,
   "metadata": {},
   "outputs": [
    {
     "data": {
      "text/plain": [
       "0.16080258172250472"
      ]
     },
     "execution_count": 5,
     "metadata": {},
     "output_type": "execute_result"
    }
   ],
   "source": [
    "np.mean(df['tip_rate'])"
   ]
  },
  {
   "cell_type": "code",
   "execution_count": 8,
   "metadata": {},
   "outputs": [
    {
     "data": {
      "text/plain": [
       "0.16080258172250472"
      ]
     },
     "execution_count": 8,
     "metadata": {},
     "output_type": "execute_result"
    }
   ],
   "source": [
    "df['tip_rate'].mean()"
   ]
  },
  {
   "cell_type": "code",
   "execution_count": 53,
   "metadata": {},
   "outputs": [
    {
     "data": {
      "text/plain": [
       "sex\n",
       "Male      0.157651\n",
       "Female    0.166491\n",
       "Name: tip_rate, dtype: float64"
      ]
     },
     "execution_count": 53,
     "metadata": {},
     "output_type": "execute_result"
    }
   ],
   "source": [
    "df.groupby('sex').mean(numeric_only=True)['tip_rate']"
   ]
  },
  {
   "cell_type": "code",
   "execution_count": 54,
   "metadata": {},
   "outputs": [
    {
     "data": {
      "text/html": [
       "<div>\n",
       "<style scoped>\n",
       "    .dataframe tbody tr th:only-of-type {\n",
       "        vertical-align: middle;\n",
       "    }\n",
       "\n",
       "    .dataframe tbody tr th {\n",
       "        vertical-align: top;\n",
       "    }\n",
       "\n",
       "    .dataframe thead th {\n",
       "        text-align: right;\n",
       "    }\n",
       "</style>\n",
       "<table border=\"1\" class=\"dataframe\">\n",
       "  <thead>\n",
       "    <tr style=\"text-align: right;\">\n",
       "      <th></th>\n",
       "      <th>total_bill</th>\n",
       "      <th>tip</th>\n",
       "      <th>size</th>\n",
       "      <th>tip_rate</th>\n",
       "    </tr>\n",
       "    <tr>\n",
       "      <th>sex</th>\n",
       "      <th></th>\n",
       "      <th></th>\n",
       "      <th></th>\n",
       "      <th></th>\n",
       "    </tr>\n",
       "  </thead>\n",
       "  <tbody>\n",
       "    <tr>\n",
       "      <th>Male</th>\n",
       "      <td>20.744076</td>\n",
       "      <td>3.089618</td>\n",
       "      <td>2.630573</td>\n",
       "      <td>0.157651</td>\n",
       "    </tr>\n",
       "    <tr>\n",
       "      <th>Female</th>\n",
       "      <td>18.056897</td>\n",
       "      <td>2.833448</td>\n",
       "      <td>2.459770</td>\n",
       "      <td>0.166491</td>\n",
       "    </tr>\n",
       "  </tbody>\n",
       "</table>\n",
       "</div>"
      ],
      "text/plain": [
       "        total_bill       tip      size  tip_rate\n",
       "sex                                             \n",
       "Male     20.744076  3.089618  2.630573  0.157651\n",
       "Female   18.056897  2.833448  2.459770  0.166491"
      ]
     },
     "execution_count": 54,
     "metadata": {},
     "output_type": "execute_result"
    }
   ],
   "source": [
    "df.groupby('sex').mean(numeric_only=True)"
   ]
  },
  {
   "cell_type": "code",
   "execution_count": 6,
   "metadata": {},
   "outputs": [
    {
     "data": {
      "text/plain": [
       "<Axes: xlabel='sex', ylabel='tip_rate'>"
      ]
     },
     "execution_count": 6,
     "metadata": {},
     "output_type": "execute_result"
    },
    {
     "data": {
      "image/png": "[encoded data removed]",
      "text/plain": [
       "<Figure size 640x480 with 1 Axes>"
      ]
     },
     "metadata": {},
     "output_type": "display_data"
    }
   ],
   "source": [
    "sns.barplot(x='sex', y='tip_rate', data=df, errorbar=None)"
   ]
  },
  {
   "cell_type": "code",
   "execution_count": 21,
   "metadata": {},
   "outputs": [
    {
     "data": {
      "text/plain": [
       "<Axes: xlabel='sex'>"
      ]
     },
     "execution_count": 21,
     "metadata": {},
     "output_type": "execute_result"
    },
    {
     "data": {
      "image/png": "[encoded data removed]",
      "text/plain": [
       "<Figure size 640x480 with 1 Axes>"
      ]
     },
     "metadata": {},
     "output_type": "display_data"
    }
   ],
   "source": [
    "df.groupby('sex').mean(numeric_only=True)['tip_rate'].plot(kind='bar')"
   ]
  },
  {
   "cell_type": "markdown",
   "metadata": {},
   "source": [
    "## 中央値"
   ]
  },
  {
   "cell_type": "code",
   "execution_count": 11,
   "metadata": {},
   "outputs": [
    {
     "data": {
      "text/plain": [
       "0.15476977125802577"
      ]
     },
     "execution_count": 11,
     "metadata": {},
     "output_type": "execute_result"
    }
   ],
   "source": [
    "np.median(df['tip_rate'])"
   ]
  },
  {
   "cell_type": "code",
   "execution_count": 14,
   "metadata": {},
   "outputs": [
    {
     "data": {
      "text/plain": [
       "0.15476977125802577"
      ]
     },
     "execution_count": 14,
     "metadata": {},
     "output_type": "execute_result"
    }
   ],
   "source": [
    "df['tip_rate'].median()"
   ]
  },
  {
   "cell_type": "code",
   "execution_count": 24,
   "metadata": {},
   "outputs": [
    {
     "data": {
      "text/plain": [
       "<seaborn.axisgrid.FacetGrid at 0x1a72c319660>"
      ]
     },
     "execution_count": 24,
     "metadata": {},
     "output_type": "execute_result"
    },
    {
     "data": {
      "image/png": "[encoded data removed]",
      "text/plain": [
       "<Figure size 500x500 with 1 Axes>"
      ]
     },
     "metadata": {},
     "output_type": "display_data"
    }
   ],
   "source": [
    "sns.displot(df['tip_rate'], kde=False)"
   ]
  },
  {
   "cell_type": "code",
   "execution_count": 22,
   "metadata": {},
   "outputs": [
    {
     "data": {
      "text/html": [
       "<div>\n",
       "<style scoped>\n",
       "    .dataframe tbody tr th:only-of-type {\n",
       "        vertical-align: middle;\n",
       "    }\n",
       "\n",
       "    .dataframe tbody tr th {\n",
       "        vertical-align: top;\n",
       "    }\n",
       "\n",
       "    .dataframe thead th {\n",
       "        text-align: right;\n",
       "    }\n",
       "</style>\n",
       "<table border=\"1\" class=\"dataframe\">\n",
       "  <thead>\n",
       "    <tr style=\"text-align: right;\">\n",
       "      <th></th>\n",
       "      <th>total_bill</th>\n",
       "      <th>tip</th>\n",
       "      <th>size</th>\n",
       "      <th>tip_rate</th>\n",
       "    </tr>\n",
       "    <tr>\n",
       "      <th>sex</th>\n",
       "      <th></th>\n",
       "      <th></th>\n",
       "      <th></th>\n",
       "      <th></th>\n",
       "    </tr>\n",
       "  </thead>\n",
       "  <tbody>\n",
       "    <tr>\n",
       "      <th>Male</th>\n",
       "      <td>18.35</td>\n",
       "      <td>3.00</td>\n",
       "      <td>2.0</td>\n",
       "      <td>0.153492</td>\n",
       "    </tr>\n",
       "    <tr>\n",
       "      <th>Female</th>\n",
       "      <td>16.40</td>\n",
       "      <td>2.75</td>\n",
       "      <td>2.0</td>\n",
       "      <td>0.155581</td>\n",
       "    </tr>\n",
       "  </tbody>\n",
       "</table>\n",
       "</div>"
      ],
      "text/plain": [
       "        total_bill   tip  size  tip_rate\n",
       "sex                                     \n",
       "Male         18.35  3.00   2.0  0.153492\n",
       "Female       16.40  2.75   2.0  0.155581"
      ]
     },
     "execution_count": 22,
     "metadata": {},
     "output_type": "execute_result"
    }
   ],
   "source": [
    "df.groupby('sex').median(numeric_only=True)"
   ]
  },
  {
   "cell_type": "code",
   "execution_count": 26,
   "metadata": {},
   "outputs": [
    {
     "data": {
      "text/plain": [
       "<Axes: xlabel='sex', ylabel='tip_rate'>"
      ]
     },
     "execution_count": 26,
     "metadata": {},
     "output_type": "execute_result"
    },
    {
     "data": {
      "image/png": "[encoded data removed]",
      "text/plain": [
       "<Figure size 640x480 with 1 Axes>"
      ]
     },
     "metadata": {},
     "output_type": "display_data"
    }
   ],
   "source": [
    "sns.barplot(x='sex', y='tip_rate', data=df, estimator=np.median, errorbar=None)"
   ]
  },
  {
   "cell_type": "code",
   "execution_count": 27,
   "metadata": {},
   "outputs": [
    {
     "data": {
      "text/html": [
       "<div>\n",
       "<style scoped>\n",
       "    .dataframe tbody tr th:only-of-type {\n",
       "        vertical-align: middle;\n",
       "    }\n",
       "\n",
       "    .dataframe tbody tr th {\n",
       "        vertical-align: top;\n",
       "    }\n",
       "\n",
       "    .dataframe thead th {\n",
       "        text-align: right;\n",
       "    }\n",
       "</style>\n",
       "<table border=\"1\" class=\"dataframe\">\n",
       "  <thead>\n",
       "    <tr style=\"text-align: right;\">\n",
       "      <th></th>\n",
       "      <th>total_bill</th>\n",
       "      <th>tip</th>\n",
       "      <th>sex</th>\n",
       "      <th>smoker</th>\n",
       "      <th>day</th>\n",
       "      <th>time</th>\n",
       "      <th>size</th>\n",
       "      <th>tip_rate</th>\n",
       "    </tr>\n",
       "  </thead>\n",
       "  <tbody>\n",
       "    <tr>\n",
       "      <th>237</th>\n",
       "      <td>32.83</td>\n",
       "      <td>1.17</td>\n",
       "      <td>Male</td>\n",
       "      <td>Yes</td>\n",
       "      <td>Sat</td>\n",
       "      <td>Dinner</td>\n",
       "      <td>2</td>\n",
       "      <td>0.035638</td>\n",
       "    </tr>\n",
       "    <tr>\n",
       "      <th>102</th>\n",
       "      <td>44.30</td>\n",
       "      <td>2.50</td>\n",
       "      <td>Female</td>\n",
       "      <td>Yes</td>\n",
       "      <td>Sat</td>\n",
       "      <td>Dinner</td>\n",
       "      <td>3</td>\n",
       "      <td>0.056433</td>\n",
       "    </tr>\n",
       "    <tr>\n",
       "      <th>57</th>\n",
       "      <td>26.41</td>\n",
       "      <td>1.50</td>\n",
       "      <td>Female</td>\n",
       "      <td>No</td>\n",
       "      <td>Sat</td>\n",
       "      <td>Dinner</td>\n",
       "      <td>2</td>\n",
       "      <td>0.056797</td>\n",
       "    </tr>\n",
       "    <tr>\n",
       "      <th>0</th>\n",
       "      <td>16.99</td>\n",
       "      <td>1.01</td>\n",
       "      <td>Female</td>\n",
       "      <td>No</td>\n",
       "      <td>Sun</td>\n",
       "      <td>Dinner</td>\n",
       "      <td>2</td>\n",
       "      <td>0.059447</td>\n",
       "    </tr>\n",
       "    <tr>\n",
       "      <th>187</th>\n",
       "      <td>30.46</td>\n",
       "      <td>2.00</td>\n",
       "      <td>Male</td>\n",
       "      <td>Yes</td>\n",
       "      <td>Sun</td>\n",
       "      <td>Dinner</td>\n",
       "      <td>5</td>\n",
       "      <td>0.065660</td>\n",
       "    </tr>\n",
       "    <tr>\n",
       "      <th>...</th>\n",
       "      <td>...</td>\n",
       "      <td>...</td>\n",
       "      <td>...</td>\n",
       "      <td>...</td>\n",
       "      <td>...</td>\n",
       "      <td>...</td>\n",
       "      <td>...</td>\n",
       "      <td>...</td>\n",
       "    </tr>\n",
       "    <tr>\n",
       "      <th>183</th>\n",
       "      <td>23.17</td>\n",
       "      <td>6.50</td>\n",
       "      <td>Male</td>\n",
       "      <td>Yes</td>\n",
       "      <td>Sun</td>\n",
       "      <td>Dinner</td>\n",
       "      <td>4</td>\n",
       "      <td>0.280535</td>\n",
       "    </tr>\n",
       "    <tr>\n",
       "      <th>232</th>\n",
       "      <td>11.61</td>\n",
       "      <td>3.39</td>\n",
       "      <td>Male</td>\n",
       "      <td>No</td>\n",
       "      <td>Sat</td>\n",
       "      <td>Dinner</td>\n",
       "      <td>2</td>\n",
       "      <td>0.291990</td>\n",
       "    </tr>\n",
       "    <tr>\n",
       "      <th>67</th>\n",
       "      <td>3.07</td>\n",
       "      <td>1.00</td>\n",
       "      <td>Female</td>\n",
       "      <td>Yes</td>\n",
       "      <td>Sat</td>\n",
       "      <td>Dinner</td>\n",
       "      <td>1</td>\n",
       "      <td>0.325733</td>\n",
       "    </tr>\n",
       "    <tr>\n",
       "      <th>178</th>\n",
       "      <td>9.60</td>\n",
       "      <td>4.00</td>\n",
       "      <td>Female</td>\n",
       "      <td>Yes</td>\n",
       "      <td>Sun</td>\n",
       "      <td>Dinner</td>\n",
       "      <td>2</td>\n",
       "      <td>0.416667</td>\n",
       "    </tr>\n",
       "    <tr>\n",
       "      <th>172</th>\n",
       "      <td>7.25</td>\n",
       "      <td>5.15</td>\n",
       "      <td>Male</td>\n",
       "      <td>Yes</td>\n",
       "      <td>Sun</td>\n",
       "      <td>Dinner</td>\n",
       "      <td>2</td>\n",
       "      <td>0.710345</td>\n",
       "    </tr>\n",
       "  </tbody>\n",
       "</table>\n",
       "<p>244 rows × 8 columns</p>\n",
       "</div>"
      ],
      "text/plain": [
       "     total_bill   tip     sex smoker  day    time  size  tip_rate\n",
       "237       32.83  1.17    Male    Yes  Sat  Dinner     2  0.035638\n",
       "102       44.30  2.50  Female    Yes  Sat  Dinner     3  0.056433\n",
       "57        26.41  1.50  Female     No  Sat  Dinner     2  0.056797\n",
       "0         16.99  1.01  Female     No  Sun  Dinner     2  0.059447\n",
       "187       30.46  2.00    Male    Yes  Sun  Dinner     5  0.065660\n",
       "..          ...   ...     ...    ...  ...     ...   ...       ...\n",
       "183       23.17  6.50    Male    Yes  Sun  Dinner     4  0.280535\n",
       "232       11.61  3.39    Male     No  Sat  Dinner     2  0.291990\n",
       "67         3.07  1.00  Female    Yes  Sat  Dinner     1  0.325733\n",
       "178        9.60  4.00  Female    Yes  Sun  Dinner     2  0.416667\n",
       "172        7.25  5.15    Male    Yes  Sun  Dinner     2  0.710345\n",
       "\n",
       "[244 rows x 8 columns]"
      ]
     },
     "execution_count": 27,
     "metadata": {},
     "output_type": "execute_result"
    }
   ],
   "source": [
    "df.sort_values('tip_rate', ascending=True)"
   ]
  },
  {
   "cell_type": "markdown",
   "metadata": {},
   "source": [
    "## 最頻値"
   ]
  },
  {
   "cell_type": "code",
   "execution_count": 31,
   "metadata": {},
   "outputs": [
    {
     "name": "stderr",
     "output_type": "stream",
     "text": [
      "C:\\Users\\tiglz\\AppData\\Local\\Temp\\ipykernel_7636\\3855105828.py:1: FutureWarning: Unlike other reduction functions (e.g. `skew`, `kurtosis`), the default behavior of `mode` typically preserves the axis it acts along. In SciPy 1.11.0, this behavior will change: the default value of `keepdims` will become False, the `axis` over which the statistic is taken will be eliminated, and the value None will no longer be accepted. Set `keepdims` to True or False to avoid this warning.\n",
      "  mode, count = stats.mode(df)\n",
      "C:\\Users\\tiglz\\AppData\\Local\\Temp\\ipykernel_7636\\3855105828.py:1: DeprecationWarning: Support for non-numeric arrays has been deprecated as of SciPy 1.9.0 and will be removed in 1.11.0. `pandas.DataFrame.mode` can be used instead, see https://pandas.pydata.org/docs/reference/api/pandas.DataFrame.mode.html.\n",
      "  mode, count = stats.mode(df)\n"
     ]
    }
   ],
   "source": [
    "mode, count = stats.mode(df)"
   ]
  },
  {
   "cell_type": "code",
   "execution_count": 33,
   "metadata": {},
   "outputs": [
    {
     "name": "stdout",
     "output_type": "stream",
     "text": [
      "[[13.42 2.0 'Male' 'No' 'Sat' 'Dinner' 2 0.1448225923244026]]\n",
      "[[  3  33 157 151  87 176 156   2]]\n"
     ]
    }
   ],
   "source": [
    "# 戻り値はリスト\n",
    "print(mode)\n",
    "print(count)"
   ]
  },
  {
   "cell_type": "code",
   "execution_count": 35,
   "metadata": {},
   "outputs": [
    {
     "data": {
      "text/plain": [
       "0    0.144823\n",
       "1    0.153846\n",
       "Name: tip_rate, dtype: float64"
      ]
     },
     "execution_count": 35,
     "metadata": {},
     "output_type": "execute_result"
    }
   ],
   "source": [
    "# チップ率の最頻値は二つある\n",
    "df['tip_rate'].mode()"
   ]
  },
  {
   "cell_type": "code",
   "execution_count": 39,
   "metadata": {},
   "outputs": [
    {
     "data": {
      "text/html": [
       "<div>\n",
       "<style scoped>\n",
       "    .dataframe tbody tr th:only-of-type {\n",
       "        vertical-align: middle;\n",
       "    }\n",
       "\n",
       "    .dataframe tbody tr th {\n",
       "        vertical-align: top;\n",
       "    }\n",
       "\n",
       "    .dataframe thead th {\n",
       "        text-align: right;\n",
       "    }\n",
       "</style>\n",
       "<table border=\"1\" class=\"dataframe\">\n",
       "  <thead>\n",
       "    <tr style=\"text-align: right;\">\n",
       "      <th></th>\n",
       "      <th>total_bill</th>\n",
       "      <th>tip</th>\n",
       "      <th>sex</th>\n",
       "      <th>smoker</th>\n",
       "      <th>day</th>\n",
       "      <th>time</th>\n",
       "      <th>size</th>\n",
       "      <th>tip_rate</th>\n",
       "    </tr>\n",
       "  </thead>\n",
       "  <tbody>\n",
       "    <tr>\n",
       "      <th>0</th>\n",
       "      <td>13.42</td>\n",
       "      <td>2.0</td>\n",
       "      <td>Male</td>\n",
       "      <td>No</td>\n",
       "      <td>Sat</td>\n",
       "      <td>Dinner</td>\n",
       "      <td>2.0</td>\n",
       "      <td>0.144823</td>\n",
       "    </tr>\n",
       "    <tr>\n",
       "      <th>1</th>\n",
       "      <td>NaN</td>\n",
       "      <td>NaN</td>\n",
       "      <td>NaN</td>\n",
       "      <td>NaN</td>\n",
       "      <td>NaN</td>\n",
       "      <td>NaN</td>\n",
       "      <td>NaN</td>\n",
       "      <td>0.153846</td>\n",
       "    </tr>\n",
       "  </tbody>\n",
       "</table>\n",
       "</div>"
      ],
      "text/plain": [
       "   total_bill  tip   sex smoker  day    time  size  tip_rate\n",
       "0       13.42  2.0  Male     No  Sat  Dinner   2.0  0.144823\n",
       "1         NaN  NaN   NaN    NaN  NaN     NaN   NaN  0.153846"
      ]
     },
     "execution_count": 39,
     "metadata": {},
     "output_type": "execute_result"
    }
   ],
   "source": [
    "# 最新の方法\n",
    "df.mode()"
   ]
  },
  {
   "cell_type": "markdown",
   "metadata": {},
   "source": [
    "## 範囲"
   ]
  },
  {
   "cell_type": "code",
   "execution_count": 40,
   "metadata": {},
   "outputs": [
    {
     "data": {
      "text/plain": [
       "1.0"
      ]
     },
     "execution_count": 40,
     "metadata": {},
     "output_type": "execute_result"
    }
   ],
   "source": [
    "# 最小値\n",
    "np.min(df['tip'])"
   ]
  },
  {
   "cell_type": "code",
   "execution_count": 59,
   "metadata": {},
   "outputs": [
    {
     "data": {
      "text/plain": [
       "1.0"
      ]
     },
     "execution_count": 59,
     "metadata": {},
     "output_type": "execute_result"
    }
   ],
   "source": [
    "df['tip'].min()"
   ]
  },
  {
   "cell_type": "code",
   "execution_count": 44,
   "metadata": {},
   "outputs": [
    {
     "data": {
      "text/html": [
       "<div>\n",
       "<style scoped>\n",
       "    .dataframe tbody tr th:only-of-type {\n",
       "        vertical-align: middle;\n",
       "    }\n",
       "\n",
       "    .dataframe tbody tr th {\n",
       "        vertical-align: top;\n",
       "    }\n",
       "\n",
       "    .dataframe thead th {\n",
       "        text-align: right;\n",
       "    }\n",
       "</style>\n",
       "<table border=\"1\" class=\"dataframe\">\n",
       "  <thead>\n",
       "    <tr style=\"text-align: right;\">\n",
       "      <th></th>\n",
       "      <th>total_bill</th>\n",
       "      <th>tip</th>\n",
       "      <th>size</th>\n",
       "      <th>tip_rate</th>\n",
       "    </tr>\n",
       "    <tr>\n",
       "      <th>sex</th>\n",
       "      <th></th>\n",
       "      <th></th>\n",
       "      <th></th>\n",
       "      <th></th>\n",
       "    </tr>\n",
       "  </thead>\n",
       "  <tbody>\n",
       "    <tr>\n",
       "      <th>Male</th>\n",
       "      <td>7.25</td>\n",
       "      <td>1.0</td>\n",
       "      <td>1</td>\n",
       "      <td>0.035638</td>\n",
       "    </tr>\n",
       "    <tr>\n",
       "      <th>Female</th>\n",
       "      <td>3.07</td>\n",
       "      <td>1.0</td>\n",
       "      <td>1</td>\n",
       "      <td>0.056433</td>\n",
       "    </tr>\n",
       "  </tbody>\n",
       "</table>\n",
       "</div>"
      ],
      "text/plain": [
       "        total_bill  tip  size  tip_rate\n",
       "sex                                    \n",
       "Male          7.25  1.0     1  0.035638\n",
       "Female        3.07  1.0     1  0.056433"
      ]
     },
     "execution_count": 44,
     "metadata": {},
     "output_type": "execute_result"
    }
   ],
   "source": [
    "df.groupby('sex').min(numeric_only=True)"
   ]
  },
  {
   "cell_type": "code",
   "execution_count": 45,
   "metadata": {},
   "outputs": [
    {
     "data": {
      "text/plain": [
       "10.0"
      ]
     },
     "execution_count": 45,
     "metadata": {},
     "output_type": "execute_result"
    }
   ],
   "source": [
    "# 最大値\n",
    "np.max(df['tip'])"
   ]
  },
  {
   "cell_type": "code",
   "execution_count": 46,
   "metadata": {},
   "outputs": [
    {
     "data": {
      "text/plain": [
       "10.0"
      ]
     },
     "execution_count": 46,
     "metadata": {},
     "output_type": "execute_result"
    }
   ],
   "source": [
    "df['tip'].max()"
   ]
  },
  {
   "cell_type": "code",
   "execution_count": 48,
   "metadata": {},
   "outputs": [
    {
     "data": {
      "text/html": [
       "<div>\n",
       "<style scoped>\n",
       "    .dataframe tbody tr th:only-of-type {\n",
       "        vertical-align: middle;\n",
       "    }\n",
       "\n",
       "    .dataframe tbody tr th {\n",
       "        vertical-align: top;\n",
       "    }\n",
       "\n",
       "    .dataframe thead th {\n",
       "        text-align: right;\n",
       "    }\n",
       "</style>\n",
       "<table border=\"1\" class=\"dataframe\">\n",
       "  <thead>\n",
       "    <tr style=\"text-align: right;\">\n",
       "      <th></th>\n",
       "      <th>total_bill</th>\n",
       "      <th>tip</th>\n",
       "      <th>size</th>\n",
       "      <th>tip_rate</th>\n",
       "    </tr>\n",
       "    <tr>\n",
       "      <th>sex</th>\n",
       "      <th></th>\n",
       "      <th></th>\n",
       "      <th></th>\n",
       "      <th></th>\n",
       "    </tr>\n",
       "  </thead>\n",
       "  <tbody>\n",
       "    <tr>\n",
       "      <th>Male</th>\n",
       "      <td>50.81</td>\n",
       "      <td>10.0</td>\n",
       "      <td>6</td>\n",
       "      <td>0.710345</td>\n",
       "    </tr>\n",
       "    <tr>\n",
       "      <th>Female</th>\n",
       "      <td>44.30</td>\n",
       "      <td>6.5</td>\n",
       "      <td>6</td>\n",
       "      <td>0.416667</td>\n",
       "    </tr>\n",
       "  </tbody>\n",
       "</table>\n",
       "</div>"
      ],
      "text/plain": [
       "        total_bill   tip  size  tip_rate\n",
       "sex                                     \n",
       "Male         50.81  10.0     6  0.710345\n",
       "Female       44.30   6.5     6  0.416667"
      ]
     },
     "execution_count": 48,
     "metadata": {},
     "output_type": "execute_result"
    }
   ],
   "source": [
    "df.groupby('sex').max(numeric_only=True)"
   ]
  },
  {
   "cell_type": "code",
   "execution_count": 49,
   "metadata": {},
   "outputs": [
    {
     "data": {
      "text/plain": [
       "9.0"
      ]
     },
     "execution_count": 49,
     "metadata": {},
     "output_type": "execute_result"
    }
   ],
   "source": [
    "# 範囲: 最大値 - 最小値\n",
    "df['tip'].max() - df['tip'].min()"
   ]
  },
  {
   "cell_type": "markdown",
   "metadata": {},
   "source": [
    "## 四分位数"
   ]
  },
  {
   "cell_type": "code",
   "execution_count": 50,
   "metadata": {},
   "outputs": [
    {
     "data": {
      "text/plain": [
       "array([0.12912736, 0.15476977, 0.19147549])"
      ]
     },
     "execution_count": 50,
     "metadata": {},
     "output_type": "execute_result"
    }
   ],
   "source": [
    "# 任意の分位数を求める\n",
    "np.quantile(df['tip_rate'], [0.25, 0.5, 0.75])"
   ]
  },
  {
   "cell_type": "code",
   "execution_count": 51,
   "metadata": {},
   "outputs": [
    {
     "data": {
      "text/plain": [
       "0.25    0.129127\n",
       "0.50    0.154770\n",
       "0.75    0.191475\n",
       "Name: tip_rate, dtype: float64"
      ]
     },
     "execution_count": 51,
     "metadata": {},
     "output_type": "execute_result"
    }
   ],
   "source": [
    "df['tip_rate'].quantile([0.25, 0.5, 0.75])"
   ]
  },
  {
   "cell_type": "code",
   "execution_count": 52,
   "metadata": {},
   "outputs": [
    {
     "data": {
      "text/plain": [
       "0.06234812458689151"
      ]
     },
     "execution_count": 52,
     "metadata": {},
     "output_type": "execute_result"
    }
   ],
   "source": [
    "# IQR: 四分位範囲\n",
    "stats.iqr(df['tip_rate'])"
   ]
  },
  {
   "cell_type": "code",
   "execution_count": 53,
   "metadata": {},
   "outputs": [
    {
     "data": {
      "text/plain": [
       "0.062348000000000015"
      ]
     },
     "execution_count": 53,
     "metadata": {},
     "output_type": "execute_result"
    }
   ],
   "source": [
    "# Q3 - Q1がIQRと同じであることを確認\n",
    "0.191475 - 0.129127"
   ]
  },
  {
   "cell_type": "code",
   "execution_count": 54,
   "metadata": {},
   "outputs": [
    {
     "data": {
      "text/plain": [
       "0.031174062293445756"
      ]
     },
     "execution_count": 54,
     "metadata": {},
     "output_type": "execute_result"
    }
   ],
   "source": [
    "# QD: 四分位偏差(IQR/2)\n",
    "stats.iqr(df['tip_rate']) / 2"
   ]
  },
  {
   "cell_type": "code",
   "execution_count": 55,
   "metadata": {},
   "outputs": [
    {
     "data": {
      "image/png": "[encoded data removed]",
      "text/plain": [
       "<Figure size 640x480 with 1 Axes>"
      ]
     },
     "metadata": {},
     "output_type": "display_data"
    }
   ],
   "source": [
    "# 箱ひげ図\n",
    "plt.boxplot(df['tip_rate'])\n",
    "plt.show()"
   ]
  },
  {
   "cell_type": "code",
   "execution_count": 65,
   "metadata": {},
   "outputs": [
    {
     "data": {
      "text/plain": [
       "<Axes: xlabel='sex', ylabel='tip_rate'>"
      ]
     },
     "execution_count": 65,
     "metadata": {},
     "output_type": "execute_result"
    },
    {
     "data": {
      "image/png": "[encoded data removed]",
      "text/plain": [
       "<Figure size 640x480 with 1 Axes>"
      ]
     },
     "metadata": {},
     "output_type": "display_data"
    }
   ],
   "source": [
    "sns.boxplot(x='sex', y='tip_rate', data=df)"
   ]
  },
  {
   "cell_type": "markdown",
   "metadata": {},
   "source": [
    "## 分散"
   ]
  },
  {
   "cell_type": "code",
   "execution_count": 67,
   "metadata": {},
   "outputs": [
    {
     "data": {
      "text/plain": [
       "1.9066085124966412"
      ]
     },
     "execution_count": 67,
     "metadata": {},
     "output_type": "execute_result"
    }
   ],
   "source": [
    "np.var(df['tip'])"
   ]
  },
  {
   "cell_type": "markdown",
   "metadata": {},
   "source": [
    "## 標準偏差"
   ]
  },
  {
   "cell_type": "code",
   "execution_count": 68,
   "metadata": {},
   "outputs": [
    {
     "data": {
      "text/plain": [
       "1.3807999538298954"
      ]
     },
     "execution_count": 68,
     "metadata": {},
     "output_type": "execute_result"
    }
   ],
   "source": [
    "np.std(df['tip'])"
   ]
  },
  {
   "cell_type": "code",
   "execution_count": 69,
   "metadata": {},
   "outputs": [
    {
     "data": {
      "text/plain": [
       "1.3807999538298954"
      ]
     },
     "execution_count": 69,
     "metadata": {},
     "output_type": "execute_result"
    }
   ],
   "source": [
    "# 分散の平方根が標準偏差であることを確認\n",
    "np.sqrt(np.var(df['tip']))"
   ]
  },
  {
   "cell_type": "markdown",
   "metadata": {},
   "source": [
    "## まとめ"
   ]
  },
  {
   "cell_type": "code",
   "execution_count": 64,
   "metadata": {},
   "outputs": [
    {
     "data": {
      "text/html": [
       "<div>\n",
       "<style scoped>\n",
       "    .dataframe tbody tr th:only-of-type {\n",
       "        vertical-align: middle;\n",
       "    }\n",
       "\n",
       "    .dataframe tbody tr th {\n",
       "        vertical-align: top;\n",
       "    }\n",
       "\n",
       "    .dataframe thead th {\n",
       "        text-align: right;\n",
       "    }\n",
       "</style>\n",
       "<table border=\"1\" class=\"dataframe\">\n",
       "  <thead>\n",
       "    <tr style=\"text-align: right;\">\n",
       "      <th></th>\n",
       "      <th>total_bill</th>\n",
       "      <th>tip</th>\n",
       "      <th>size</th>\n",
       "      <th>tip_rate</th>\n",
       "    </tr>\n",
       "  </thead>\n",
       "  <tbody>\n",
       "    <tr>\n",
       "      <th>count</th>\n",
       "      <td>244.000000</td>\n",
       "      <td>244.000000</td>\n",
       "      <td>244.000000</td>\n",
       "      <td>244.000000</td>\n",
       "    </tr>\n",
       "    <tr>\n",
       "      <th>mean</th>\n",
       "      <td>19.785943</td>\n",
       "      <td>2.998279</td>\n",
       "      <td>2.569672</td>\n",
       "      <td>0.160803</td>\n",
       "    </tr>\n",
       "    <tr>\n",
       "      <th>std</th>\n",
       "      <td>8.902412</td>\n",
       "      <td>1.383638</td>\n",
       "      <td>0.951100</td>\n",
       "      <td>0.061072</td>\n",
       "    </tr>\n",
       "    <tr>\n",
       "      <th>min</th>\n",
       "      <td>3.070000</td>\n",
       "      <td>1.000000</td>\n",
       "      <td>1.000000</td>\n",
       "      <td>0.035638</td>\n",
       "    </tr>\n",
       "    <tr>\n",
       "      <th>25%</th>\n",
       "      <td>13.347500</td>\n",
       "      <td>2.000000</td>\n",
       "      <td>2.000000</td>\n",
       "      <td>0.129127</td>\n",
       "    </tr>\n",
       "    <tr>\n",
       "      <th>50%</th>\n",
       "      <td>17.795000</td>\n",
       "      <td>2.900000</td>\n",
       "      <td>2.000000</td>\n",
       "      <td>0.154770</td>\n",
       "    </tr>\n",
       "    <tr>\n",
       "      <th>75%</th>\n",
       "      <td>24.127500</td>\n",
       "      <td>3.562500</td>\n",
       "      <td>3.000000</td>\n",
       "      <td>0.191475</td>\n",
       "    </tr>\n",
       "    <tr>\n",
       "      <th>max</th>\n",
       "      <td>50.810000</td>\n",
       "      <td>10.000000</td>\n",
       "      <td>6.000000</td>\n",
       "      <td>0.710345</td>\n",
       "    </tr>\n",
       "  </tbody>\n",
       "</table>\n",
       "</div>"
      ],
      "text/plain": [
       "       total_bill         tip        size    tip_rate\n",
       "count  244.000000  244.000000  244.000000  244.000000\n",
       "mean    19.785943    2.998279    2.569672    0.160803\n",
       "std      8.902412    1.383638    0.951100    0.061072\n",
       "min      3.070000    1.000000    1.000000    0.035638\n",
       "25%     13.347500    2.000000    2.000000    0.129127\n",
       "50%     17.795000    2.900000    2.000000    0.154770\n",
       "75%     24.127500    3.562500    3.000000    0.191475\n",
       "max     50.810000   10.000000    6.000000    0.710345"
      ]
     },
     "execution_count": 64,
     "metadata": {},
     "output_type": "execute_result"
    }
   ],
   "source": [
    "# 統計量の一括出力\n",
    "df.describe()"
   ]
  },
  {
   "cell_type": "code",
   "execution_count": 63,
   "metadata": {},
   "outputs": [
    {
     "data": {
      "text/html": [
       "<div>\n",
       "<style scoped>\n",
       "    .dataframe tbody tr th:only-of-type {\n",
       "        vertical-align: middle;\n",
       "    }\n",
       "\n",
       "    .dataframe tbody tr th {\n",
       "        vertical-align: top;\n",
       "    }\n",
       "\n",
       "    .dataframe thead tr th {\n",
       "        text-align: left;\n",
       "    }\n",
       "\n",
       "    .dataframe thead tr:last-of-type th {\n",
       "        text-align: right;\n",
       "    }\n",
       "</style>\n",
       "<table border=\"1\" class=\"dataframe\">\n",
       "  <thead>\n",
       "    <tr>\n",
       "      <th></th>\n",
       "      <th colspan=\"8\" halign=\"left\">total_bill</th>\n",
       "      <th colspan=\"2\" halign=\"left\">tip</th>\n",
       "      <th>...</th>\n",
       "      <th colspan=\"2\" halign=\"left\">size</th>\n",
       "      <th colspan=\"8\" halign=\"left\">tip_rate</th>\n",
       "    </tr>\n",
       "    <tr>\n",
       "      <th></th>\n",
       "      <th>count</th>\n",
       "      <th>mean</th>\n",
       "      <th>std</th>\n",
       "      <th>min</th>\n",
       "      <th>25%</th>\n",
       "      <th>50%</th>\n",
       "      <th>75%</th>\n",
       "      <th>max</th>\n",
       "      <th>count</th>\n",
       "      <th>mean</th>\n",
       "      <th>...</th>\n",
       "      <th>75%</th>\n",
       "      <th>max</th>\n",
       "      <th>count</th>\n",
       "      <th>mean</th>\n",
       "      <th>std</th>\n",
       "      <th>min</th>\n",
       "      <th>25%</th>\n",
       "      <th>50%</th>\n",
       "      <th>75%</th>\n",
       "      <th>max</th>\n",
       "    </tr>\n",
       "    <tr>\n",
       "      <th>sex</th>\n",
       "      <th></th>\n",
       "      <th></th>\n",
       "      <th></th>\n",
       "      <th></th>\n",
       "      <th></th>\n",
       "      <th></th>\n",
       "      <th></th>\n",
       "      <th></th>\n",
       "      <th></th>\n",
       "      <th></th>\n",
       "      <th></th>\n",
       "      <th></th>\n",
       "      <th></th>\n",
       "      <th></th>\n",
       "      <th></th>\n",
       "      <th></th>\n",
       "      <th></th>\n",
       "      <th></th>\n",
       "      <th></th>\n",
       "      <th></th>\n",
       "      <th></th>\n",
       "    </tr>\n",
       "  </thead>\n",
       "  <tbody>\n",
       "    <tr>\n",
       "      <th>Male</th>\n",
       "      <td>157.0</td>\n",
       "      <td>20.744076</td>\n",
       "      <td>9.246469</td>\n",
       "      <td>7.25</td>\n",
       "      <td>14.00</td>\n",
       "      <td>18.35</td>\n",
       "      <td>24.71</td>\n",
       "      <td>50.81</td>\n",
       "      <td>157.0</td>\n",
       "      <td>3.089618</td>\n",
       "      <td>...</td>\n",
       "      <td>3.0</td>\n",
       "      <td>6.0</td>\n",
       "      <td>157.0</td>\n",
       "      <td>0.157651</td>\n",
       "      <td>0.064778</td>\n",
       "      <td>0.035638</td>\n",
       "      <td>0.121389</td>\n",
       "      <td>0.153492</td>\n",
       "      <td>0.186240</td>\n",
       "      <td>0.710345</td>\n",
       "    </tr>\n",
       "    <tr>\n",
       "      <th>Female</th>\n",
       "      <td>87.0</td>\n",
       "      <td>18.056897</td>\n",
       "      <td>8.009209</td>\n",
       "      <td>3.07</td>\n",
       "      <td>12.75</td>\n",
       "      <td>16.40</td>\n",
       "      <td>21.52</td>\n",
       "      <td>44.30</td>\n",
       "      <td>87.0</td>\n",
       "      <td>2.833448</td>\n",
       "      <td>...</td>\n",
       "      <td>3.0</td>\n",
       "      <td>6.0</td>\n",
       "      <td>87.0</td>\n",
       "      <td>0.166491</td>\n",
       "      <td>0.053632</td>\n",
       "      <td>0.056433</td>\n",
       "      <td>0.140416</td>\n",
       "      <td>0.155581</td>\n",
       "      <td>0.194266</td>\n",
       "      <td>0.416667</td>\n",
       "    </tr>\n",
       "  </tbody>\n",
       "</table>\n",
       "<p>2 rows × 32 columns</p>\n",
       "</div>"
      ],
      "text/plain": [
       "       total_bill                                                          \n",
       "            count       mean       std   min    25%    50%    75%    max   \n",
       "sex                                                                        \n",
       "Male        157.0  20.744076  9.246469  7.25  14.00  18.35  24.71  50.81  \\\n",
       "Female       87.0  18.056897  8.009209  3.07  12.75  16.40  21.52  44.30   \n",
       "\n",
       "          tip            ... size      tip_rate                                 \n",
       "        count      mean  ...  75%  max    count      mean       std       min   \n",
       "sex                      ...                                                    \n",
       "Male    157.0  3.089618  ...  3.0  6.0    157.0  0.157651  0.064778  0.035638  \\\n",
       "Female   87.0  2.833448  ...  3.0  6.0     87.0  0.166491  0.053632  0.056433   \n",
       "\n",
       "                                                \n",
       "             25%       50%       75%       max  \n",
       "sex                                             \n",
       "Male    0.121389  0.153492  0.186240  0.710345  \n",
       "Female  0.140416  0.155581  0.194266  0.416667  \n",
       "\n",
       "[2 rows x 32 columns]"
      ]
     },
     "execution_count": 63,
     "metadata": {},
     "output_type": "execute_result"
    }
   ],
   "source": [
    "df.groupby('sex').describe()"
   ]
  },
  {
   "cell_type": "markdown",
   "metadata": {},
   "source": [
    "## 共分散"
   ]
  },
  {
   "cell_type": "code",
   "execution_count": 77,
   "metadata": {},
   "outputs": [
    {
     "data": {
      "text/plain": [
       "array([[78.92813149,  8.28938892],\n",
       "       [ 8.28938892,  1.90660851]])"
      ]
     },
     "execution_count": 77,
     "metadata": {},
     "output_type": "execute_result"
    }
   ],
   "source": [
    "# 分散共分散行列 biasは不偏分散を使うかどうか\n",
    "np.cov(df['total_bill'], df['tip'], bias=True)"
   ]
  },
  {
   "cell_type": "code",
   "execution_count": 88,
   "metadata": {},
   "outputs": [
    {
     "data": {
      "text/plain": [
       "array([[78.92813149,  8.28938892,  5.04522121],\n",
       "       [ 8.28938892,  1.90660851,  0.64126747],\n",
       "       [ 5.04522121,  0.64126747,  0.9008835 ]])"
      ]
     },
     "execution_count": 88,
     "metadata": {},
     "output_type": "execute_result"
    }
   ],
   "source": [
    "# np.stackで行列を作成\n",
    "x = np.stack([df['total_bill'], df['tip'], df['size']], axis=0)\n",
    "np.cov(x, bias=True)"
   ]
  },
  {
   "cell_type": "code",
   "execution_count": 90,
   "metadata": {},
   "outputs": [
    {
     "data": {
      "text/html": [
       "<div>\n",
       "<style scoped>\n",
       "    .dataframe tbody tr th:only-of-type {\n",
       "        vertical-align: middle;\n",
       "    }\n",
       "\n",
       "    .dataframe tbody tr th {\n",
       "        vertical-align: top;\n",
       "    }\n",
       "\n",
       "    .dataframe thead th {\n",
       "        text-align: right;\n",
       "    }\n",
       "</style>\n",
       "<table border=\"1\" class=\"dataframe\">\n",
       "  <thead>\n",
       "    <tr style=\"text-align: right;\">\n",
       "      <th></th>\n",
       "      <th>total_bill</th>\n",
       "      <th>tip</th>\n",
       "      <th>size</th>\n",
       "      <th>tip_rate</th>\n",
       "    </tr>\n",
       "  </thead>\n",
       "  <tbody>\n",
       "    <tr>\n",
       "      <th>total_bill</th>\n",
       "      <td>78.928131</td>\n",
       "      <td>8.289389</td>\n",
       "      <td>5.045221</td>\n",
       "      <td>-0.183352</td>\n",
       "    </tr>\n",
       "    <tr>\n",
       "      <th>tip</th>\n",
       "      <td>8.289389</td>\n",
       "      <td>1.906609</td>\n",
       "      <td>0.641267</td>\n",
       "      <td>0.028812</td>\n",
       "    </tr>\n",
       "    <tr>\n",
       "      <th>size</th>\n",
       "      <td>5.045221</td>\n",
       "      <td>0.641267</td>\n",
       "      <td>0.900883</td>\n",
       "      <td>-0.008264</td>\n",
       "    </tr>\n",
       "    <tr>\n",
       "      <th>tip_rate</th>\n",
       "      <td>-0.183352</td>\n",
       "      <td>0.028812</td>\n",
       "      <td>-0.008264</td>\n",
       "      <td>0.003715</td>\n",
       "    </tr>\n",
       "  </tbody>\n",
       "</table>\n",
       "</div>"
      ],
      "text/plain": [
       "            total_bill       tip      size  tip_rate\n",
       "total_bill   78.928131  8.289389  5.045221 -0.183352\n",
       "tip           8.289389  1.906609  0.641267  0.028812\n",
       "size          5.045221  0.641267  0.900883 -0.008264\n",
       "tip_rate     -0.183352  0.028812 -0.008264  0.003715"
      ]
     },
     "execution_count": 90,
     "metadata": {},
     "output_type": "execute_result"
    }
   ],
   "source": [
    "# df.cov()は不偏共分散行列を返す(nではなくn-1で割った時の分散と共分散であることに注意)\n",
    "df.cov(numeric_only=True, ddof=0)"
   ]
  },
  {
   "cell_type": "markdown",
   "metadata": {},
   "source": [
    "## 相関係数"
   ]
  },
  {
   "cell_type": "markdown",
   "metadata": {},
   "source": [
    "$$\n",
    "r = \\frac{\\sum_{i=1}^{n} (x_i - \\bar{x})(y_i - \\bar{y})}{\\sqrt{\\sum_{i=1}^{n} (x_i - \\bar{x})^2 \\sum_{i=1}^{n} (y_i - \\bar{y})^2}}\n",
    "$$"
   ]
  },
  {
   "cell_type": "code",
   "execution_count": 98,
   "metadata": {},
   "outputs": [
    {
     "data": {
      "text/plain": [
       "array([[1.        , 0.67573411],\n",
       "       [0.67573411, 1.        ]])"
      ]
     },
     "execution_count": 98,
     "metadata": {},
     "output_type": "execute_result"
    }
   ],
   "source": [
    "# 相関行列\n",
    "np.corrcoef(df['total_bill'], df['tip'])"
   ]
  },
  {
   "cell_type": "code",
   "execution_count": 97,
   "metadata": {},
   "outputs": [
    {
     "data": {
      "text/plain": [
       "array([[1.        , 0.67573411, 0.59831513],\n",
       "       [0.67573411, 1.        , 0.48929878],\n",
       "       [0.59831513, 0.48929878, 1.        ]])"
      ]
     },
     "execution_count": 97,
     "metadata": {},
     "output_type": "execute_result"
    }
   ],
   "source": [
    "x = np.stack([df['total_bill'], df['tip'], df['size']], axis=0)\n",
    "np.corrcoef(x)"
   ]
  },
  {
   "cell_type": "code",
   "execution_count": 96,
   "metadata": {},
   "outputs": [
    {
     "data": {
      "text/html": [
       "<div>\n",
       "<style scoped>\n",
       "    .dataframe tbody tr th:only-of-type {\n",
       "        vertical-align: middle;\n",
       "    }\n",
       "\n",
       "    .dataframe tbody tr th {\n",
       "        vertical-align: top;\n",
       "    }\n",
       "\n",
       "    .dataframe thead th {\n",
       "        text-align: right;\n",
       "    }\n",
       "</style>\n",
       "<table border=\"1\" class=\"dataframe\">\n",
       "  <thead>\n",
       "    <tr style=\"text-align: right;\">\n",
       "      <th></th>\n",
       "      <th>total_bill</th>\n",
       "      <th>tip</th>\n",
       "      <th>size</th>\n",
       "      <th>tip_rate</th>\n",
       "    </tr>\n",
       "  </thead>\n",
       "  <tbody>\n",
       "    <tr>\n",
       "      <th>total_bill</th>\n",
       "      <td>1.000000</td>\n",
       "      <td>0.675734</td>\n",
       "      <td>0.598315</td>\n",
       "      <td>-0.338624</td>\n",
       "    </tr>\n",
       "    <tr>\n",
       "      <th>tip</th>\n",
       "      <td>0.675734</td>\n",
       "      <td>1.000000</td>\n",
       "      <td>0.489299</td>\n",
       "      <td>0.342370</td>\n",
       "    </tr>\n",
       "    <tr>\n",
       "      <th>size</th>\n",
       "      <td>0.598315</td>\n",
       "      <td>0.489299</td>\n",
       "      <td>1.000000</td>\n",
       "      <td>-0.142860</td>\n",
       "    </tr>\n",
       "    <tr>\n",
       "      <th>tip_rate</th>\n",
       "      <td>-0.338624</td>\n",
       "      <td>0.342370</td>\n",
       "      <td>-0.142860</td>\n",
       "      <td>1.000000</td>\n",
       "    </tr>\n",
       "  </tbody>\n",
       "</table>\n",
       "</div>"
      ],
      "text/plain": [
       "            total_bill       tip      size  tip_rate\n",
       "total_bill    1.000000  0.675734  0.598315 -0.338624\n",
       "tip           0.675734  1.000000  0.489299  0.342370\n",
       "size          0.598315  0.489299  1.000000 -0.142860\n",
       "tip_rate     -0.338624  0.342370 -0.142860  1.000000"
      ]
     },
     "execution_count": 96,
     "metadata": {},
     "output_type": "execute_result"
    }
   ],
   "source": [
    "df.corr(numeric_only=True)"
   ]
  },
  {
   "cell_type": "code",
   "execution_count": 100,
   "metadata": {},
   "outputs": [
    {
     "data": {
      "text/plain": [
       "<Axes: >"
      ]
     },
     "execution_count": 100,
     "metadata": {},
     "output_type": "execute_result"
    },
    {
     "data": {
      "image/png": "[encoded data removed]",
      "text/plain": [
       "<Figure size 640x480 with 2 Axes>"
      ]
     },
     "metadata": {},
     "output_type": "display_data"
    }
   ],
   "source": [
    "# 相関行列をheatmapを使って表示\n",
    "sns.heatmap(df.corr(numeric_only=True), cmap='coolwarm', annot=True)"
   ]
  },
  {
   "cell_type": "markdown",
   "metadata": {},
   "source": [
    "## 連関"
   ]
  },
  {
   "cell_type": "code",
   "execution_count": 102,
   "metadata": {},
   "outputs": [
    {
     "data": {
      "text/html": [
       "<div>\n",
       "<style scoped>\n",
       "    .dataframe tbody tr th:only-of-type {\n",
       "        vertical-align: middle;\n",
       "    }\n",
       "\n",
       "    .dataframe tbody tr th {\n",
       "        vertical-align: top;\n",
       "    }\n",
       "\n",
       "    .dataframe thead th {\n",
       "        text-align: right;\n",
       "    }\n",
       "</style>\n",
       "<table border=\"1\" class=\"dataframe\">\n",
       "  <thead>\n",
       "    <tr style=\"text-align: right;\">\n",
       "      <th>time</th>\n",
       "      <th>Lunch</th>\n",
       "      <th>Dinner</th>\n",
       "    </tr>\n",
       "    <tr>\n",
       "      <th>sex</th>\n",
       "      <th></th>\n",
       "      <th></th>\n",
       "    </tr>\n",
       "  </thead>\n",
       "  <tbody>\n",
       "    <tr>\n",
       "      <th>Male</th>\n",
       "      <td>33</td>\n",
       "      <td>124</td>\n",
       "    </tr>\n",
       "    <tr>\n",
       "      <th>Female</th>\n",
       "      <td>35</td>\n",
       "      <td>52</td>\n",
       "    </tr>\n",
       "  </tbody>\n",
       "</table>\n",
       "</div>"
      ],
      "text/plain": [
       "time    Lunch  Dinner\n",
       "sex                  \n",
       "Male       33     124\n",
       "Female     35      52"
      ]
     },
     "execution_count": 102,
     "metadata": {},
     "output_type": "execute_result"
    }
   ],
   "source": [
    "# 分割表\n",
    "pd.crosstab(df['sex'], df['time'])"
   ]
  },
  {
   "cell_type": "code",
   "execution_count": 106,
   "metadata": {},
   "outputs": [
    {
     "data": {
      "text/plain": [
       "Chi2ContingencyResult(statistic=10.277251918677742, pvalue=0.0013468039268008764, dof=1, expected_freq=array([[ 43.75409836, 113.24590164],\n",
       "       [ 24.24590164,  62.75409836]]))"
      ]
     },
     "execution_count": 106,
     "metadata": {},
     "output_type": "execute_result"
    }
   ],
   "source": [
    "cont_table = pd.crosstab(df['sex'], df['time'])\n",
    "# 第一戻り値がカイ二乗, 第四戻り値が期待度数\n",
    "stats.chi2_contingency(cont_table, correction=False)"
   ]
  },
  {
   "cell_type": "code",
   "execution_count": 110,
   "metadata": {},
   "outputs": [
    {
     "name": "stdout",
     "output_type": "stream",
     "text": [
      "カイ二乗値:  10.277251918677742\n",
      "p値:  0.0013468039268008764\n",
      "期待度数: \n",
      " [[ 43.75409836 113.24590164]\n",
      " [ 24.24590164  62.75409836]]\n",
      "2つのカテゴリ変数は独立ではないと結論されます（有意水準 0.05）。\n"
     ]
    }
   ],
   "source": [
    "# GPT4\n",
    "cont_table = pd.crosstab(df['sex'], df['time'])\n",
    "\n",
    "chi2, p, _, expected = stats.chi2_contingency(cont_table, correction=False)\n",
    "\n",
    "print(\"カイ二乗値: \", chi2)\n",
    "print(\"p値: \", p)\n",
    "print(\"期待度数: \\n\", expected)\n",
    "\n",
    "# p値に基づく解釈\n",
    "alpha = 0.05\n",
    "if p < alpha:\n",
    "    print(\"2つのカテゴリ変数は独立ではないと結論されます（有意水準 {}）。\".format(alpha))\n",
    "else:\n",
    "    print(\"2つのカテゴリ変数は独立と結論されます（有意水準 {}）。\".format(alpha))\n"
   ]
  },
  {
   "cell_type": "markdown",
   "metadata": {},
   "source": [
    "## クラメールの連関係数"
   ]
  },
  {
   "cell_type": "code",
   "execution_count": 111,
   "metadata": {},
   "outputs": [],
   "source": [
    "def cramers_v(x, y):\n",
    "    cont_table = pd.crosstab(x, y)\n",
    "    chi2 = stats.chi2_contingency(cont_table, correction=False)[0]\n",
    "    min_d = min(cont_table.shape) - 1\n",
    "    n = len(x)\n",
    "    v = np.sqrt(chi2/(min_d*n))\n",
    "    return v"
   ]
  },
  {
   "cell_type": "code",
   "execution_count": 112,
   "metadata": {},
   "outputs": [
    {
     "data": {
      "text/plain": [
       "0.20523129613344476"
      ]
     },
     "execution_count": 112,
     "metadata": {},
     "output_type": "execute_result"
    }
   ],
   "source": [
    "cramers_v(df['sex'], df['time'])"
   ]
  },
  {
   "cell_type": "markdown",
   "metadata": {},
   "source": [
    "## 確率分布"
   ]
  },
  {
   "cell_type": "code",
   "execution_count": 122,
   "metadata": {},
   "outputs": [
    {
     "data": {
      "text/plain": [
       "6"
      ]
     },
     "execution_count": 122,
     "metadata": {},
     "output_type": "execute_result"
    }
   ],
   "source": [
    "# random variates(rvs): 確率変量\n",
    "# 離散型一様分布\n",
    "stats.randint.rvs(1, 7)"
   ]
  },
  {
   "cell_type": "code",
   "execution_count": 75,
   "metadata": {},
   "outputs": [
    {
     "data": {
      "text/plain": [
       "0.6653259640704186"
      ]
     },
     "execution_count": 75,
     "metadata": {},
     "output_type": "execute_result"
    }
   ],
   "source": [
    "# 連続型一様分布\n",
    "stats.uniform(0, 1).rvs()"
   ]
  },
  {
   "cell_type": "markdown",
   "metadata": {},
   "source": [
    "## 確率分布の描画"
   ]
  },
  {
   "cell_type": "code",
   "execution_count": 129,
   "metadata": {},
   "outputs": [
    {
     "data": {
      "text/plain": [
       "103"
      ]
     },
     "execution_count": 129,
     "metadata": {},
     "output_type": "execute_result"
    }
   ],
   "source": [
    "# サンプル関数\n",
    "def simple_func(x):\n",
    "    return x**2 + 3\n",
    "simple_func(10)"
   ]
  },
  {
   "cell_type": "code",
   "execution_count": 137,
   "metadata": {},
   "outputs": [
    {
     "data": {
      "text/plain": [
       "[<matplotlib.lines.Line2D at 0x1a72f1d77c0>]"
      ]
     },
     "execution_count": 137,
     "metadata": {},
     "output_type": "execute_result"
    },
    {
     "data": {
      "image/png": "[encoded data removed]",
      "text/plain": [
       "<Figure size 640x480 with 1 Axes>"
      ]
     },
     "metadata": {},
     "output_type": "display_data"
    }
   ],
   "source": [
    "# 連続したx軸の値を作成\n",
    "x = np.linspace(-3, 3, 100)\n",
    "# 整数のみのx軸の値を作成\n",
    "# x = np.arange(-3, 4)\n",
    "y = simple_func(x)\n",
    "# 関数を描画\n",
    "plt.plot(x, y)"
   ]
  },
  {
   "cell_type": "code",
   "execution_count": 147,
   "metadata": {},
   "outputs": [
    {
     "data": {
      "text/plain": [
       "<matplotlib.collections.LineCollection at 0x1a72f2c3580>"
      ]
     },
     "execution_count": 147,
     "metadata": {},
     "output_type": "execute_result"
    },
    {
     "data": {
      "image/png": "[encoded data removed]",
      "text/plain": [
       "<Figure size 640x480 with 1 Axes>"
      ]
     },
     "metadata": {},
     "output_type": "display_data"
    }
   ],
   "source": [
    "# 離散型確率分布\n",
    "x = np.arange(1, 7)\n",
    "y = stats.randint(1, 7).pmf(x)\n",
    "plt.plot(x, y, 'o')\n",
    "plt.vlines(x, 0, y)"
   ]
  },
  {
   "cell_type": "code",
   "execution_count": 152,
   "metadata": {},
   "outputs": [
    {
     "data": {
      "text/plain": [
       "[<matplotlib.lines.Line2D at 0x1a72f82b9a0>]"
      ]
     },
     "execution_count": 152,
     "metadata": {},
     "output_type": "execute_result"
    },
    {
     "data": {
      "image/png": "[encoded data removed]",
      "text/plain": [
       "<Figure size 640x480 with 1 Axes>"
      ]
     },
     "metadata": {},
     "output_type": "display_data"
    }
   ],
   "source": [
    "# 連続型確率分布\n",
    "x = np.linspace(-2, 2, 100)\n",
    "y = stats.uniform(loc=0, scale=1).pdf(x)\n",
    "plt.plot(x, y)"
   ]
  },
  {
   "cell_type": "markdown",
   "metadata": {},
   "source": [
    "## CDF"
   ]
  },
  {
   "cell_type": "code",
   "execution_count": 178,
   "metadata": {},
   "outputs": [
    {
     "data": {
      "text/plain": [
       "[<matplotlib.lines.Line2D at 0x1a72fde3b20>]"
      ]
     },
     "execution_count": 178,
     "metadata": {},
     "output_type": "execute_result"
    },
    {
     "data": {
      "image/png": "[encoded data removed]",
      "text/plain": [
       "<Figure size 640x480 with 1 Axes>"
      ]
     },
     "metadata": {},
     "output_type": "display_data"
    }
   ],
   "source": [
    "x = np.linspace(-3, 3, 100)\n",
    "y = stats.norm.pdf(x)\n",
    "plt.plot(x, y)"
   ]
  },
  {
   "cell_type": "code",
   "execution_count": 179,
   "metadata": {},
   "outputs": [
    {
     "data": {
      "text/plain": [
       "[<matplotlib.lines.Line2D at 0x1a72fe901c0>]"
      ]
     },
     "execution_count": 179,
     "metadata": {},
     "output_type": "execute_result"
    },
    {
     "data": {
      "image/png": "[encoded data removed]",
      "text/plain": [
       "<Figure size 640x480 with 1 Axes>"
      ]
     },
     "metadata": {},
     "output_type": "display_data"
    }
   ],
   "source": [
    "# 正規分布のCDF\n",
    "y = stats.norm.cdf(x)\n",
    "plt.plot(x, y)"
   ]
  },
  {
   "cell_type": "code",
   "execution_count": 180,
   "metadata": {},
   "outputs": [
    {
     "data": {
      "text/plain": [
       "[<matplotlib.lines.Line2D at 0x1a72fedb3d0>]"
      ]
     },
     "execution_count": 180,
     "metadata": {},
     "output_type": "execute_result"
    },
    {
     "data": {
      "image/png": "[encoded data removed]",
      "text/plain": [
       "<Figure size 640x480 with 1 Axes>"
      ]
     },
     "metadata": {},
     "output_type": "display_data"
    }
   ],
   "source": [
    "# survival function(sf) =  cdf - 1\n",
    "y = stats.norm.sf(x)\n",
    "plt.plot(x, y)"
   ]
  },
  {
   "cell_type": "markdown",
   "metadata": {},
   "source": [
    "## 正規分布"
   ]
  },
  {
   "cell_type": "code",
   "execution_count": 195,
   "metadata": {},
   "outputs": [
    {
     "data": {
      "image/png": "[encoded data removed]",
      "text/plain": [
       "<Figure size 640x480 with 1 Axes>"
      ]
     },
     "metadata": {},
     "output_type": "display_data"
    }
   ],
   "source": [
    "# データの設定\n",
    "mu = 0        # 平均値\n",
    "sigma = 1     # 標準偏差\n",
    "x = np.linspace(-5, 5, 100)  # -5から5までの範囲で100点を生成\n",
    "\n",
    "# 正規分布の確率密度関数を使ってyの値を生成\n",
    "y = (1 / (np.sqrt(2 * np.pi * sigma**2))) * np.exp(-(x - mu)**2 / (2 * sigma**2))\n",
    "\n",
    "# グラフの描画\n",
    "plt.plot(x, y)\n",
    "plt.title('Normal Distribution')\n",
    "plt.xlabel('x')\n",
    "plt.ylabel('Probability Density')\n",
    "plt.grid(True)\n",
    "plt.show()\n"
   ]
  },
  {
   "cell_type": "code",
   "execution_count": 211,
   "metadata": {},
   "outputs": [
    {
     "data": {
      "text/plain": [
       "[<matplotlib.lines.Line2D at 0x1a735735000>]"
      ]
     },
     "execution_count": 211,
     "metadata": {},
     "output_type": "execute_result"
    },
    {
     "data": {
      "image/png": "[encoded data removed]",
      "text/plain": [
       "<Figure size 640x480 with 1 Axes>"
      ]
     },
     "metadata": {},
     "output_type": "display_data"
    }
   ],
   "source": [
    "# さまざまな正規分布を描画\n",
    "x = np.linspace(-5, 15, 100)\n",
    "y = stats.norm(loc=10, scale=1).pdf(x)\n",
    "y2 = stats.norm(loc=8, scale=3).pdf(x)\n",
    "y3 = stats.norm(loc=8, scale=1).pdf(x)\n",
    "\n",
    "plt.grid(True)\n",
    "plt.plot(x, y)\n",
    "plt.plot(x, y2)\n",
    "plt.plot(x, y3)"
   ]
  },
  {
   "cell_type": "markdown",
   "metadata": {},
   "source": [
    "## KDE"
   ]
  },
  {
   "cell_type": "code",
   "execution_count": 227,
   "metadata": {},
   "outputs": [
    {
     "data": {
      "text/plain": [
       "[<matplotlib.lines.Line2D at 0x1a738a1e920>]"
      ]
     },
     "execution_count": 227,
     "metadata": {},
     "output_type": "execute_result"
    },
    {
     "data": {
      "image/png": "[encoded data removed]",
      "text/plain": [
       "<Figure size 640x480 with 1 Axes>"
      ]
     },
     "metadata": {},
     "output_type": "display_data"
    }
   ],
   "source": [
    "# tipカラムの確率分布をKDEで推定する\n",
    "x = np.linspace(-3, 10, 100)\n",
    "y = stats.gaussian_kde([1, 1, 1, 1, 2, 2, 3, 4, 5, 5, 5, 5, 5, 5]).pdf(x)\n",
    "plt.plot(x, y)"
   ]
  },
  {
   "cell_type": "code",
   "execution_count": 213,
   "metadata": {},
   "outputs": [
    {
     "data": {
      "text/plain": [
       "[<matplotlib.lines.Line2D at 0x1a7357620e0>]"
      ]
     },
     "execution_count": 213,
     "metadata": {},
     "output_type": "execute_result"
    },
    {
     "data": {
      "image/png": "[encoded data removed]",
      "text/plain": [
       "<Figure size 640x480 with 1 Axes>"
      ]
     },
     "metadata": {},
     "output_type": "display_data"
    }
   ],
   "source": [
    "# tipカラムの確率分布をKDEで推定する\n",
    "x = np.linspace(-3, 10, 100)\n",
    "y = stats.gaussian_kde(df['tip']).pdf(x)\n",
    "plt.plot(x, y)"
   ]
  },
  {
   "cell_type": "code",
   "execution_count": 228,
   "metadata": {},
   "outputs": [
    {
     "data": {
      "text/plain": [
       "<seaborn.axisgrid.FacetGrid at 0x1a738986cb0>"
      ]
     },
     "execution_count": 228,
     "metadata": {},
     "output_type": "execute_result"
    },
    {
     "data": {
      "image/png": "[encoded data removed]",
      "text/plain": [
       "<Figure size 500x500 with 1 Axes>"
      ]
     },
     "metadata": {},
     "output_type": "display_data"
    }
   ],
   "source": [
    "# .displotのkdeをTrueにするとKDEの結果を描画する\n",
    "sns.displot(df['tip'], kde=True)"
   ]
  },
  {
   "cell_type": "code",
   "execution_count": 268,
   "metadata": {},
   "outputs": [
    {
     "data": {
      "text/plain": [
       "<seaborn.axisgrid.FacetGrid at 0x1a7467ef3d0>"
      ]
     },
     "execution_count": 268,
     "metadata": {},
     "output_type": "execute_result"
    },
    {
     "data": {
      "image/png": "[encoded data removed]",
      "text/plain": [
       "<Figure size 500x500 with 1 Axes>"
      ]
     },
     "metadata": {},
     "output_type": "display_data"
    }
   ],
   "source": [
    "# KDEした結果の確率分布からresample(再度データを抽出)することができる\n",
    "resample_data = stats.gaussian_kde(df['tip']).resample()\n",
    "\n",
    "#　シリーズに変換\n",
    "resample_series = pd.Series(resample_data[0])\n",
    "#　データフレームに変換\n",
    "resample_df = pd.DataFrame(resample_data, index=['tip']).T\n",
    "\n",
    "sns.displot(resample_series, kde=True)"
   ]
  },
  {
   "cell_type": "markdown",
   "metadata": {},
   "source": [
    "## 68-95-99.7ルール"
   ]
  },
  {
   "cell_type": "code",
   "execution_count": 316,
   "metadata": {},
   "outputs": [],
   "source": [
    "# 68-95-99.7ルールを確認\n",
    "group1 = []\n",
    "group2 = []\n",
    "group3 = []\n",
    "samples = []\n",
    "loc = 5\n",
    "scale = 1\n",
    "\n",
    "for i in range(1000):\n",
    "    sample = stats.norm(loc=loc, scale=scale).rvs()\n",
    "    if loc-scale < sample < loc+scale:\n",
    "        group1.append(sample)\n",
    "    elif loc-2*scale < sample < loc+2*scale:\n",
    "        group2.append(sample)\n",
    "    elif loc-3*scale < sample < loc+3*scale:\n",
    "        group3.append(sample)\n",
    "    samples.append(sample)"
   ]
  },
  {
   "cell_type": "code",
   "execution_count": 317,
   "metadata": {},
   "outputs": [
    {
     "name": "stdout",
     "output_type": "stream",
     "text": [
      "0.668\n",
      "0.962\n",
      "0.997\n"
     ]
    }
   ],
   "source": [
    "print(len(group1)/len(samples))\n",
    "print((len(group1) + len(group2))/len(samples))\n",
    "print((len(group1) + len(group2) + len(group3))/len(samples))"
   ]
  },
  {
   "cell_type": "code",
   "execution_count": 51,
   "metadata": {},
   "outputs": [
    {
     "name": "stdout",
     "output_type": "stream",
     "text": [
      "±1標準偏差の確率: 68.27%\n",
      "±2標準偏差の確率: 95.45%\n",
      "±3標準偏差の確率: 99.73%\n"
     ]
    }
   ],
   "source": [
    "# 平均値と標準偏差を0と1として設定\n",
    "mu, sigma = 0, 1\n",
    "\n",
    "# ±1, ±2, ±3標準偏差の確率を計算\n",
    "prob_1sd = stats.norm(mu, sigma).cdf(1*sigma) - stats.norm(mu, sigma).cdf(-1*sigma)\n",
    "prob_2sd = stats.norm(mu, sigma).cdf(2*sigma) - stats.norm(mu, sigma).cdf(-2*sigma)\n",
    "prob_3sd = stats.norm(mu, sigma).cdf(3*sigma) - stats.norm(mu, sigma).cdf(-3*sigma)\n",
    "\n",
    "print(f\"±1標準偏差の確率: {prob_1sd*100:.2f}%\")\n",
    "print(f\"±2標準偏差の確率: {prob_2sd*100:.2f}%\")\n",
    "print(f\"±3標準偏差の確率: {prob_3sd*100:.2f}%\")"
   ]
  },
  {
   "cell_type": "markdown",
   "metadata": {},
   "source": [
    "## 標準化"
   ]
  },
  {
   "cell_type": "code",
   "execution_count": 67,
   "metadata": {},
   "outputs": [
    {
     "data": {
      "text/plain": [
       "0     -1.663018\n",
       "1     -0.004282\n",
       "2      0.094915\n",
       "3     -0.344926\n",
       "4     -0.229625\n",
       "         ...   \n",
       "239    0.707573\n",
       "240   -1.431066\n",
       "241   -1.190876\n",
       "242   -1.027096\n",
       "243   -0.017362\n",
       "Name: tip_rate, Length: 244, dtype: float64"
      ]
     },
     "execution_count": 67,
     "metadata": {},
     "output_type": "execute_result"
    }
   ],
   "source": [
    "x = df['tip_rate']\n",
    "\n",
    "mean = x.mean()\n",
    "std = x.std(ddof=0)\n",
    "\n",
    "z = (x - mean) / std\n",
    "z"
   ]
  },
  {
   "cell_type": "code",
   "execution_count": 96,
   "metadata": {},
   "outputs": [
    {
     "data": {
      "text/plain": [
       "array([[-1.66301817e+00],\n",
       "       [-4.28234299e-03],\n",
       "       [ 9.49146717e-02],\n",
       "       [-3.44925940e-01],\n",
       "       [-2.29624968e-01],\n",
       "       [ 4.17363756e-01],\n",
       "       [ 1.10337948e+00],\n",
       "       [-7.33936144e-01],\n",
       "       [-5.00163567e-01],\n",
       "       [ 9.47315739e-01],\n",
       "       [ 9.35535257e-02],\n",
       "       [-3.11727577e-01],\n",
       "       [-9.67838090e-01],\n",
       "       [ 3.24134057e-02],\n",
       "       [ 7.02885077e-01],\n",
       "       [ 3.42053237e-01],\n",
       "       [ 1.41511894e-02],\n",
       "       [ 1.09840651e+00],\n",
       "       [ 7.45627991e-01],\n",
       "       [ 2.33813456e-02],\n",
       "       [ 1.09728238e+00],\n",
       "       [-4.14587519e-01],\n",
       "       [-3.18225155e-01],\n",
       "       [ 5.16606793e-01],\n",
       "       [-5.88357399e-03],\n",
       "       [-4.82644844e-01],\n",
       "       [-1.83995336e-01],\n",
       "       [-5.24746516e-02],\n",
       "       [ 6.12895542e-01],\n",
       "       [-1.33408300e-01],\n",
       "       [-1.47179215e-01],\n",
       "       [-4.03019490e-01],\n",
       "       [ 6.30066304e-01],\n",
       "       [-6.95488521e-01],\n",
       "       [ 3.79214012e-01],\n",
       "       [-1.83383264e-01],\n",
       "       [-6.26420825e-01],\n",
       "       [ 3.36888626e-01],\n",
       "       [-6.10483210e-01],\n",
       "       [-1.48476102e-02],\n",
       "       [-3.47051274e-01],\n",
       "       [-2.51484529e-01],\n",
       "       [ 9.63290777e-01],\n",
       "       [-4.00987322e-01],\n",
       "       [ 3.84070953e-01],\n",
       "       [ 5.28570554e-02],\n",
       "       [ 1.05204148e+00],\n",
       "       [ 4.00062880e-01],\n",
       "       [-1.46026604e+00],\n",
       "       [ 9.01527935e-02],\n",
       "       [ 6.32672740e-01],\n",
       "       [ 1.50737567e+00],\n",
       "       [-1.87379754e-01],\n",
       "       [-6.33490804e-02],\n",
       "       [ 1.47570612e-01],\n",
       "       [ 3.16501160e-01],\n",
       "       [-1.34339804e+00],\n",
       "       [-1.70649970e+00],\n",
       "       [-6.92233716e-02],\n",
       "       [-3.50772542e-01],\n",
       "       [-4.26037703e-02],\n",
       "       [-2.62195159e-01],\n",
       "       [ 3.09625771e-01],\n",
       "       [ 7.34643039e-01],\n",
       "       [-1.75846534e-01],\n",
       "       [-6.44835090e-02],\n",
       "       [-1.74752140e-01],\n",
       "       [ 2.70613013e+00],\n",
       "       [-1.00817537e+00],\n",
       "       [-3.53784451e-01],\n",
       "       [ 5.07150927e-02],\n",
       "       [ 2.45202560e-01],\n",
       "       [-7.20300861e-01],\n",
       "       [ 6.06793973e-01],\n",
       "       [-1.87827745e-01],\n",
       "       [-6.86962166e-01],\n",
       "       [ 1.81673116e-01],\n",
       "       [-2.25503708e-01],\n",
       "       [-4.75698931e-01],\n",
       "       [-6.66905294e-02],\n",
       "       [-1.06348167e-01],\n",
       "       [ 7.10110461e-01],\n",
       "       [ 3.43336797e-01],\n",
       "       [-1.28042643e-01],\n",
       "       [-5.54068773e-01],\n",
       "       [-2.02919576e-01],\n",
       "       [-1.19950920e-01],\n",
       "       [ 9.51906867e-01],\n",
       "       [ 1.24606240e+00],\n",
       "       [-3.12167402e-01],\n",
       "       [-9.39295576e-01],\n",
       "       [-8.49568603e-02],\n",
       "       [ 2.15112759e-01],\n",
       "       [ 1.68470855e+00],\n",
       "       [-2.94443699e-01],\n",
       "       [-7.06401766e-01],\n",
       "       [-2.32579660e-01],\n",
       "       [-5.92553288e-01],\n",
       "       [-2.95559339e-01],\n",
       "       [-6.63156462e-01],\n",
       "       [ 9.75631384e-01],\n",
       "       [ 5.62061733e-01],\n",
       "       [-1.71245996e+00],\n",
       "       [-9.16211377e-02],\n",
       "       [ 5.61572178e-01],\n",
       "       [-8.86537688e-01],\n",
       "       [ 6.12711033e-01],\n",
       "       [ 1.53707264e-01],\n",
       "       [ 7.43889329e-01],\n",
       "       [ 1.94796080e+00],\n",
       "       [ 8.77536154e-01],\n",
       "       [-3.75269896e-01],\n",
       "       [-9.14450903e-01],\n",
       "       [-8.91443875e-01],\n",
       "       [-8.56662692e-02],\n",
       "       [ 6.79159437e-01],\n",
       "       [ 1.40986169e-01],\n",
       "       [-3.27457216e-01],\n",
       "       [-2.62386326e-01],\n",
       "       [-6.48763190e-01],\n",
       "       [ 6.03840260e-01],\n",
       "       [-5.84382083e-01],\n",
       "       [ 2.38124986e-01],\n",
       "       [-5.81009306e-01],\n",
       "       [ 6.74693487e-01],\n",
       "       [-3.25906246e-01],\n",
       "       [ 2.11763561e-01],\n",
       "       [-3.78387160e-01],\n",
       "       [ 2.45202560e-01],\n",
       "       [-1.07097023e+00],\n",
       "       [-1.34848847e+00],\n",
       "       [-3.47636667e-01],\n",
       "       [-4.35039313e-01],\n",
       "       [ 3.82226864e-02],\n",
       "       [ 2.81918791e-01],\n",
       "       [-2.28339078e-01],\n",
       "       [ 5.38308684e-01],\n",
       "       [-3.19291329e-01],\n",
       "       [-5.87438663e-01],\n",
       "       [ 7.90261058e-01],\n",
       "       [ 6.48775347e-01],\n",
       "       [ 5.66602723e-01],\n",
       "       [-6.46692075e-01],\n",
       "       [ 3.94446492e-01],\n",
       "       [-3.41522622e-01],\n",
       "       [ 3.09090836e-01],\n",
       "       [-1.44127377e+00],\n",
       "       [-3.85279543e-01],\n",
       "       [ 2.63984329e-01],\n",
       "       [ 1.73116196e+00],\n",
       "       [ 2.76969363e-01],\n",
       "       [-1.39131822e-01],\n",
       "       [-3.37019475e-02],\n",
       "       [-1.30172577e+00],\n",
       "       [-9.78543219e-01],\n",
       "       [ 1.86912180e-01],\n",
       "       [-9.35297952e-01],\n",
       "       [-1.77245714e-01],\n",
       "       [ 5.59814954e-01],\n",
       "       [-6.48383036e-01],\n",
       "       [ 3.26204458e-02],\n",
       "       [ 6.01667278e-01],\n",
       "       [-6.14008841e-01],\n",
       "       [-2.62195159e-01],\n",
       "       [ 1.72741873e-01],\n",
       "       [-3.09738706e-01],\n",
       "       [-8.68013801e-01],\n",
       "       [-3.09966611e-01],\n",
       "       [-1.43934483e-01],\n",
       "       [ 4.48655474e-01],\n",
       "       [ 5.90826656e-01],\n",
       "       [ 6.41064571e-01],\n",
       "       [ 9.01673417e+00],\n",
       "       [-1.00020739e+00],\n",
       "       [ 1.26355092e+00],\n",
       "       [-1.08740028e+00],\n",
       "       [-8.04114088e-01],\n",
       "       [-3.72144021e-01],\n",
       "       [ 4.19814574e+00],\n",
       "       [-9.56410951e-01],\n",
       "       [-8.95823260e-01],\n",
       "       [ 1.33517595e+00],\n",
       "       [-1.37209662e+00],\n",
       "       [ 1.96453862e+00],\n",
       "       [-1.42451552e+00],\n",
       "       [ 1.32672901e+00],\n",
       "       [ 1.09300556e-01],\n",
       "       [-1.56107458e+00],\n",
       "       [ 5.25619338e-01],\n",
       "       [ 2.02759875e-01],\n",
       "       [-1.06978792e+00],\n",
       "       [ 8.31982167e-01],\n",
       "       [-1.16147802e+00],\n",
       "       [-4.97344604e-01],\n",
       "       [ 1.32003277e+00],\n",
       "       [ 4.86876203e-01],\n",
       "       [ 5.35236429e-01],\n",
       "       [-7.35397381e-01],\n",
       "       [-1.14139106e-01],\n",
       "       [-2.09429617e-01],\n",
       "       [ 8.69393055e-01],\n",
       "       [-4.97446091e-02],\n",
       "       [-1.14139106e-01],\n",
       "       [-1.37226890e-01],\n",
       "       [ 5.58424250e-01],\n",
       "       [ 5.79382202e-01],\n",
       "       [-5.34216937e-01],\n",
       "       [-1.36747250e+00],\n",
       "       [-1.26602321e+00],\n",
       "       [ 2.29089621e-01],\n",
       "       [-1.54673887e+00],\n",
       "       [ 6.31732732e-01],\n",
       "       [ 4.17037552e-01],\n",
       "       [ 4.52726576e-01],\n",
       "       [ 1.14754500e+00],\n",
       "       [-1.23929567e+00],\n",
       "       [-8.89801138e-01],\n",
       "       [-5.14885121e-01],\n",
       "       [ 4.14195282e-01],\n",
       "       [-9.56258467e-01],\n",
       "       [ 3.30098196e-01],\n",
       "       [ 1.61635505e+00],\n",
       "       [ 1.03325376e+00],\n",
       "       [ 4.41894081e-01],\n",
       "       [-7.06645257e-01],\n",
       "       [-1.17242074e-01],\n",
       "       [ 6.13869725e-01],\n",
       "       [-2.31403218e-01],\n",
       "       [ 7.22213523e-01],\n",
       "       [-5.02136332e-01],\n",
       "       [-1.27166305e+00],\n",
       "       [ 4.98827559e-01],\n",
       "       [ 2.15248065e+00],\n",
       "       [-3.98909870e-01],\n",
       "       [ 5.31149320e-01],\n",
       "       [-6.01695617e-01],\n",
       "       [-1.33620357e+00],\n",
       "       [-2.05366292e+00],\n",
       "       [-4.99859091e-01],\n",
       "       [ 7.07572834e-01],\n",
       "       [-1.43106581e+00],\n",
       "       [-1.19087646e+00],\n",
       "       [-1.02709553e+00],\n",
       "       [-1.73622005e-02]])"
      ]
     },
     "execution_count": 96,
     "metadata": {},
     "output_type": "execute_result"
    }
   ],
   "source": [
    "scaler = StandardScaler()\n",
    "scaled = scaler.fit_transform(df['tip_rate'].values.reshape(-1, 1))\n",
    "scaled"
   ]
  },
  {
   "cell_type": "code",
   "execution_count": 97,
   "metadata": {},
   "outputs": [
    {
     "data": {
      "text/plain": [
       "array([[ 33.36981828],\n",
       "       [ 49.95717657],\n",
       "       [ 50.94914672],\n",
       "       [ 46.5507406 ],\n",
       "       [ 47.70375032],\n",
       "       [ 54.17363756],\n",
       "       [ 61.03379478],\n",
       "       [ 42.66063856],\n",
       "       [ 44.99836433],\n",
       "       [ 59.47315739],\n",
       "       [ 50.93553526],\n",
       "       [ 46.88272423],\n",
       "       [ 40.3216191 ],\n",
       "       [ 50.32413406],\n",
       "       [ 57.02885077],\n",
       "       [ 53.42053237],\n",
       "       [ 50.14151189],\n",
       "       [ 60.98406513],\n",
       "       [ 57.45627991],\n",
       "       [ 50.23381346],\n",
       "       [ 60.97282376],\n",
       "       [ 45.85412481],\n",
       "       [ 46.81774845],\n",
       "       [ 55.16606793],\n",
       "       [ 49.94116426],\n",
       "       [ 45.17355156],\n",
       "       [ 48.16004664],\n",
       "       [ 49.47525348],\n",
       "       [ 56.12895542],\n",
       "       [ 48.665917  ],\n",
       "       [ 48.52820785],\n",
       "       [ 45.9698051 ],\n",
       "       [ 56.30066304],\n",
       "       [ 43.04511479],\n",
       "       [ 53.79214012],\n",
       "       [ 48.16616736],\n",
       "       [ 43.73579175],\n",
       "       [ 53.36888626],\n",
       "       [ 43.8951679 ],\n",
       "       [ 49.8515239 ],\n",
       "       [ 46.52948726],\n",
       "       [ 47.48515471],\n",
       "       [ 59.63290777],\n",
       "       [ 45.99012678],\n",
       "       [ 53.84070953],\n",
       "       [ 50.52857055],\n",
       "       [ 60.52041476],\n",
       "       [ 54.0006288 ],\n",
       "       [ 35.3973396 ],\n",
       "       [ 50.90152794],\n",
       "       [ 56.3267274 ],\n",
       "       [ 65.07375667],\n",
       "       [ 48.12620246],\n",
       "       [ 49.3665092 ],\n",
       "       [ 51.47570612],\n",
       "       [ 53.1650116 ],\n",
       "       [ 36.56601957],\n",
       "       [ 32.93500302],\n",
       "       [ 49.30776628],\n",
       "       [ 46.49227458],\n",
       "       [ 49.5739623 ],\n",
       "       [ 47.37804841],\n",
       "       [ 53.09625771],\n",
       "       [ 57.34643039],\n",
       "       [ 48.24153466],\n",
       "       [ 49.35516491],\n",
       "       [ 48.2524786 ],\n",
       "       [ 77.06130127],\n",
       "       [ 39.91824625],\n",
       "       [ 46.46215549],\n",
       "       [ 50.50715093],\n",
       "       [ 52.4520256 ],\n",
       "       [ 42.79699139],\n",
       "       [ 56.06793973],\n",
       "       [ 48.12172255],\n",
       "       [ 43.13037834],\n",
       "       [ 51.81673116],\n",
       "       [ 47.74496292],\n",
       "       [ 45.24301069],\n",
       "       [ 49.33309471],\n",
       "       [ 48.93651833],\n",
       "       [ 57.10110461],\n",
       "       [ 53.43336797],\n",
       "       [ 48.71957357],\n",
       "       [ 44.45931227],\n",
       "       [ 47.97080424],\n",
       "       [ 48.8004908 ],\n",
       "       [ 59.51906867],\n",
       "       [ 62.46062397],\n",
       "       [ 46.87832598],\n",
       "       [ 40.60704424],\n",
       "       [ 49.1504314 ],\n",
       "       [ 52.15112759],\n",
       "       [ 66.84708553],\n",
       "       [ 47.05556301],\n",
       "       [ 42.93598234],\n",
       "       [ 47.6742034 ],\n",
       "       [ 44.07446712],\n",
       "       [ 47.04440661],\n",
       "       [ 43.36843538],\n",
       "       [ 59.75631384],\n",
       "       [ 55.62061733],\n",
       "       [ 32.87540045],\n",
       "       [ 49.08378862],\n",
       "       [ 55.61572178],\n",
       "       [ 41.13462312],\n",
       "       [ 56.12711033],\n",
       "       [ 51.53707264],\n",
       "       [ 57.43889329],\n",
       "       [ 69.479608  ],\n",
       "       [ 58.77536154],\n",
       "       [ 46.24730104],\n",
       "       [ 40.85549097],\n",
       "       [ 41.08556125],\n",
       "       [ 49.14333731],\n",
       "       [ 56.79159437],\n",
       "       [ 51.40986169],\n",
       "       [ 46.72542784],\n",
       "       [ 47.37613674],\n",
       "       [ 43.5123681 ],\n",
       "       [ 56.0384026 ],\n",
       "       [ 44.15617917],\n",
       "       [ 52.38124986],\n",
       "       [ 44.18990694],\n",
       "       [ 56.74693487],\n",
       "       [ 46.74093754],\n",
       "       [ 52.11763561],\n",
       "       [ 46.2161284 ],\n",
       "       [ 52.4520256 ],\n",
       "       [ 39.29029772],\n",
       "       [ 36.51511527],\n",
       "       [ 46.52363333],\n",
       "       [ 45.64960687],\n",
       "       [ 50.38222686],\n",
       "       [ 52.81918791],\n",
       "       [ 47.71660922],\n",
       "       [ 55.38308684],\n",
       "       [ 46.80708671],\n",
       "       [ 44.12561337],\n",
       "       [ 57.90261058],\n",
       "       [ 56.48775347],\n",
       "       [ 55.66602723],\n",
       "       [ 43.53307925],\n",
       "       [ 53.94446492],\n",
       "       [ 46.58477378],\n",
       "       [ 53.09090836],\n",
       "       [ 35.5872623 ],\n",
       "       [ 46.14720457],\n",
       "       [ 52.63984329],\n",
       "       [ 67.31161959],\n",
       "       [ 52.76969363],\n",
       "       [ 48.60868178],\n",
       "       [ 49.66298053],\n",
       "       [ 36.98274227],\n",
       "       [ 40.21456781],\n",
       "       [ 51.8691218 ],\n",
       "       [ 40.64702048],\n",
       "       [ 48.22754286],\n",
       "       [ 55.59814954],\n",
       "       [ 43.51616964],\n",
       "       [ 50.32620446],\n",
       "       [ 56.01667278],\n",
       "       [ 43.85991159],\n",
       "       [ 47.37804841],\n",
       "       [ 51.72741873],\n",
       "       [ 46.90261294],\n",
       "       [ 41.31986199],\n",
       "       [ 46.90033389],\n",
       "       [ 48.56065517],\n",
       "       [ 54.48655474],\n",
       "       [ 55.90826656],\n",
       "       [ 56.41064571],\n",
       "       [140.16734169],\n",
       "       [ 39.99792609],\n",
       "       [ 62.63550921],\n",
       "       [ 39.12599719],\n",
       "       [ 41.95885912],\n",
       "       [ 46.27855979],\n",
       "       [ 91.98145738],\n",
       "       [ 40.43589049],\n",
       "       [ 41.0417674 ],\n",
       "       [ 63.35175951],\n",
       "       [ 36.27903382],\n",
       "       [ 69.64538616],\n",
       "       [ 35.75484482],\n",
       "       [ 63.26729012],\n",
       "       [ 51.09300556],\n",
       "       [ 34.38925415],\n",
       "       [ 55.25619338],\n",
       "       [ 52.02759875],\n",
       "       [ 39.30212077],\n",
       "       [ 58.31982167],\n",
       "       [ 38.38521979],\n",
       "       [ 45.02655396],\n",
       "       [ 63.20032769],\n",
       "       [ 54.86876203],\n",
       "       [ 55.35236429],\n",
       "       [ 42.64602619],\n",
       "       [ 48.85860894],\n",
       "       [ 47.90570383],\n",
       "       [ 58.69393055],\n",
       "       [ 49.50255391],\n",
       "       [ 48.85860894],\n",
       "       [ 48.6277311 ],\n",
       "       [ 55.5842425 ],\n",
       "       [ 55.79382202],\n",
       "       [ 44.65783063],\n",
       "       [ 36.32527496],\n",
       "       [ 37.33976793],\n",
       "       [ 52.29089621],\n",
       "       [ 34.53261128],\n",
       "       [ 56.31732732],\n",
       "       [ 54.17037552],\n",
       "       [ 54.52726576],\n",
       "       [ 61.47545002],\n",
       "       [ 37.60704326],\n",
       "       [ 41.10198862],\n",
       "       [ 44.85114879],\n",
       "       [ 54.14195282],\n",
       "       [ 40.43741533],\n",
       "       [ 53.30098196],\n",
       "       [ 66.16355048],\n",
       "       [ 60.33253757],\n",
       "       [ 54.41894081],\n",
       "       [ 42.93354743],\n",
       "       [ 48.82757926],\n",
       "       [ 56.13869725],\n",
       "       [ 47.68596782],\n",
       "       [ 57.22213523],\n",
       "       [ 44.97863668],\n",
       "       [ 37.28336948],\n",
       "       [ 54.98827559],\n",
       "       [ 71.52480645],\n",
       "       [ 46.0109013 ],\n",
       "       [ 55.3114932 ],\n",
       "       [ 43.98304383],\n",
       "       [ 36.63796431],\n",
       "       [ 29.46337075],\n",
       "       [ 45.00140909],\n",
       "       [ 57.07572834],\n",
       "       [ 35.68934191],\n",
       "       [ 38.09123541],\n",
       "       [ 39.72904473],\n",
       "       [ 49.826378  ]])"
      ]
     },
     "execution_count": 97,
     "metadata": {},
     "output_type": "execute_result"
    }
   ],
   "source": [
    "# 偏差値\n",
    "T_score = scaled * 10 + 50\n",
    "T_score"
   ]
  },
  {
   "cell_type": "markdown",
   "metadata": {},
   "source": [
    "## 二項分布"
   ]
  },
  {
   "cell_type": "code",
   "execution_count": 363,
   "metadata": {},
   "outputs": [
    {
     "data": {
      "text/plain": [
       "<matplotlib.collections.LineCollection at 0x198961e77f0>"
      ]
     },
     "execution_count": 363,
     "metadata": {},
     "output_type": "execute_result"
    },
    {
     "data": {
      "image/png": "[encoded data removed]",
      "text/plain": [
       "<Figure size 640x480 with 1 Axes>"
      ]
     },
     "metadata": {},
     "output_type": "display_data"
    }
   ],
   "source": [
    "n = 3\n",
    "x = np.arange(n+1)\n",
    "y = stats.binom(n=n, p=1/6).pmf(x)\n",
    "plt.plot(x, y, 'o')\n",
    "plt.vlines(x, 0, y)"
   ]
  },
  {
   "cell_type": "markdown",
   "metadata": {},
   "source": [
    "## 二項分布->正規分布"
   ]
  },
  {
   "cell_type": "markdown",
   "metadata": {},
   "source": [
    "平均np 分散npqの正規分布に近似できる"
   ]
  },
  {
   "cell_type": "code",
   "execution_count": 365,
   "metadata": {},
   "outputs": [
    {
     "data": {
      "text/plain": [
       "[<matplotlib.lines.Line2D at 0x19896386320>]"
      ]
     },
     "execution_count": 365,
     "metadata": {},
     "output_type": "execute_result"
    },
    {
     "data": {
      "image/png": "[encoded data removed]",
      "text/plain": [
       "<Figure size 640x480 with 1 Axes>"
      ]
     },
     "metadata": {},
     "output_type": "display_data"
    }
   ],
   "source": [
    "n = 100\n",
    "p = 1/6\n",
    "x = np.arange(n+1)\n",
    "y = stats.binom(n, p).pmf(x)\n",
    "plt.plot(x, y, 'o')"
   ]
  },
  {
   "cell_type": "code",
   "execution_count": 104,
   "metadata": {},
   "outputs": [
    {
     "data": {
      "text/plain": [
       "[<matplotlib.lines.Line2D at 0x198870e2ec0>]"
      ]
     },
     "execution_count": 104,
     "metadata": {},
     "output_type": "execute_result"
    },
    {
     "data": {
      "image/png": "[encoded data removed]",
      "text/plain": [
       "<Figure size 640x480 with 1 Axes>"
      ]
     },
     "metadata": {},
     "output_type": "display_data"
    }
   ],
   "source": [
    "# 平均np 分散npqの正規分布\n",
    "y2 = stats.norm(n*p, np.sqrt(n*p*(1-p))).pdf(x)\n",
    "plt.plot(x, y2)\n",
    "plt.plot(x, y, 'o')"
   ]
  },
  {
   "cell_type": "code",
   "execution_count": 98,
   "metadata": {},
   "outputs": [
    {
     "data": {
      "text/plain": [
       "16.666666666666664"
      ]
     },
     "execution_count": 98,
     "metadata": {},
     "output_type": "execute_result"
    }
   ],
   "source": [
    "# 平均=np\n",
    "stats.binom(n, p).mean()"
   ]
  },
  {
   "cell_type": "code",
   "execution_count": 99,
   "metadata": {},
   "outputs": [
    {
     "data": {
      "text/plain": [
       "16.666666666666664"
      ]
     },
     "execution_count": 99,
     "metadata": {},
     "output_type": "execute_result"
    }
   ],
   "source": [
    "n*p"
   ]
  },
  {
   "cell_type": "code",
   "execution_count": null,
   "metadata": {},
   "outputs": [],
   "source": [
    "# 分散=np(1-p)\n",
    "stats.binom(n, p).var()"
   ]
  },
  {
   "cell_type": "code",
   "execution_count": 100,
   "metadata": {},
   "outputs": [
    {
     "data": {
      "text/plain": [
       "13.888888888888888"
      ]
     },
     "execution_count": 100,
     "metadata": {},
     "output_type": "execute_result"
    }
   ],
   "source": [
    "n*p*(1-p)"
   ]
  },
  {
   "cell_type": "markdown",
   "metadata": {},
   "source": [
    "## 標本分布"
   ]
  },
  {
   "cell_type": "code",
   "execution_count": 326,
   "metadata": {},
   "outputs": [],
   "source": [
    "#データセットを母集団とみなして、n個のサンプルをm回取得し、それぞれの平均値を求める\n",
    "m = 10000\n",
    "n = 50\n",
    "column = 'tip'\n",
    "sample_means = []\n",
    "for i in range(m):\n",
    "    sampled_df = df.sample(n) #dfからn個のサンプルを取得\n",
    "    sample_mean = sampled_df[column].mean()\n",
    "    sample_means.append(sample_mean)"
   ]
  },
  {
   "cell_type": "code",
   "execution_count": 327,
   "metadata": {},
   "outputs": [
    {
     "data": {
      "text/plain": [
       "2.99835396"
      ]
     },
     "execution_count": 327,
     "metadata": {},
     "output_type": "execute_result"
    }
   ],
   "source": [
    "# 標本平均\n",
    "np.mean(sample_means)"
   ]
  },
  {
   "cell_type": "code",
   "execution_count": 328,
   "metadata": {},
   "outputs": [
    {
     "data": {
      "text/plain": [
       "2.99827868852459"
      ]
     },
     "execution_count": 328,
     "metadata": {},
     "output_type": "execute_result"
    }
   ],
   "source": [
    "# 母平均\n",
    "df[column].mean()"
   ]
  },
  {
   "cell_type": "code",
   "execution_count": 329,
   "metadata": {},
   "outputs": [
    {
     "data": {
      "text/plain": [
       "0.0298401325923184"
      ]
     },
     "execution_count": 329,
     "metadata": {},
     "output_type": "execute_result"
    }
   ],
   "source": [
    "# 標本分散 (実際には不偏分散stats.tvar()を使った方が良い)\n",
    "# 外れ値の影響で母分散と差が出てしまう\n",
    "np.var(sample_means)"
   ]
  },
  {
   "cell_type": "code",
   "execution_count": 330,
   "metadata": {},
   "outputs": [
    {
     "data": {
      "text/plain": [
       "0.038132170249932824"
      ]
     },
     "execution_count": 330,
     "metadata": {},
     "output_type": "execute_result"
    }
   ],
   "source": [
    "# 母分散/n\n",
    "np.var(df[column])/n"
   ]
  },
  {
   "cell_type": "code",
   "execution_count": 331,
   "metadata": {},
   "outputs": [
    {
     "data": {
      "text/plain": [
       "<seaborn.axisgrid.FacetGrid at 0x1989085e890>"
      ]
     },
     "execution_count": 331,
     "metadata": {},
     "output_type": "execute_result"
    },
    {
     "data": {
      "image/png": "[encoded data removed]",
      "text/plain": [
       "<Figure size 500x500 with 1 Axes>"
      ]
     },
     "metadata": {},
     "output_type": "display_data"
    }
   ],
   "source": [
    "# 母集団の分布\n",
    "sns.displot(df[column])"
   ]
  },
  {
   "cell_type": "code",
   "execution_count": 332,
   "metadata": {},
   "outputs": [
    {
     "data": {
      "text/plain": [
       "<seaborn.axisgrid.FacetGrid at 0x19893b59000>"
      ]
     },
     "execution_count": 332,
     "metadata": {},
     "output_type": "execute_result"
    },
    {
     "data": {
      "image/png": "[encoded data removed]",
      "text/plain": [
       "<Figure size 500x500 with 1 Axes>"
      ]
     },
     "metadata": {},
     "output_type": "display_data"
    }
   ],
   "source": [
    "# 無限回やると平均の標本分布(平均=母平均, 分散=母分散/n)になる\n",
    "sns.displot(sample_means)"
   ]
  },
  {
   "cell_type": "code",
   "execution_count": 311,
   "metadata": {},
   "outputs": [
    {
     "data": {
      "text/plain": [
       "[2.8798000000000004,\n",
       " 2.9632000000000005,\n",
       " 3.2832,\n",
       " 2.9972000000000003,\n",
       " 3.2103999999999995,\n",
       " 3.2912,\n",
       " 2.6534000000000004,\n",
       " 2.8962,\n",
       " 3.0,\n",
       " 3.1047999999999996,\n",
       " 2.6854,\n",
       " 2.9042000000000003,\n",
       " 2.8322,\n",
       " 3.0372000000000003,\n",
       " 2.681,\n",
       " 3.4146000000000005,\n",
       " 3.1398,\n",
       " 2.9452000000000003,\n",
       " 2.8613999999999997,\n",
       " 2.9863999999999997,\n",
       " 2.8253999999999997,\n",
       " 3.343,\n",
       " 3.2088,\n",
       " 2.7963999999999998,\n",
       " 3.1302,\n",
       " 3.1390000000000002,\n",
       " 3.1179999999999994,\n",
       " 3.0684000000000005,\n",
       " 2.9322,\n",
       " 2.7203999999999997,\n",
       " 2.8832,\n",
       " 2.9539999999999997,\n",
       " 3.0782,\n",
       " 3.3744,\n",
       " 2.8636,\n",
       " 2.9529999999999994,\n",
       " 3.0214,\n",
       " 2.8198000000000003,\n",
       " 3.1226,\n",
       " 2.9756,\n",
       " 2.9320000000000004,\n",
       " 3.1223999999999994,\n",
       " 3.2409999999999997,\n",
       " 3.0669999999999997,\n",
       " 3.2862,\n",
       " 3.3276000000000003,\n",
       " 2.9863999999999997,\n",
       " 3.1334000000000004,\n",
       " 2.7976,\n",
       " 3.0386,\n",
       " 2.8086,\n",
       " 3.0388,\n",
       " 3.1038,\n",
       " 2.5152,\n",
       " 3.0508000000000006,\n",
       " 2.7984000000000004,\n",
       " 2.7821999999999996,\n",
       " 3.1974,\n",
       " 2.9554,\n",
       " 3.0768,\n",
       " 2.9097999999999997,\n",
       " 3.2958000000000003,\n",
       " 2.8697999999999997,\n",
       " 3.0944,\n",
       " 2.7498,\n",
       " 2.8807999999999994,\n",
       " 3.1483999999999996,\n",
       " 3.0532,\n",
       " 3.0795999999999997,\n",
       " 2.7586,\n",
       " 3.3429999999999995,\n",
       " 2.7152,\n",
       " 3.0359999999999996,\n",
       " 2.8215999999999997,\n",
       " 3.0225999999999993,\n",
       " 3.1606,\n",
       " 3.0694,\n",
       " 3.0734,\n",
       " 2.7164000000000006,\n",
       " 2.7946000000000004,\n",
       " 2.9676,\n",
       " 2.9488000000000003,\n",
       " 3.0212,\n",
       " 3.3534,\n",
       " 2.5353999999999997,\n",
       " 3.0452,\n",
       " 3.0263999999999998,\n",
       " 3.1370000000000005,\n",
       " 3.2906,\n",
       " 3.2136,\n",
       " 2.7574,\n",
       " 2.9277999999999995,\n",
       " 2.8620000000000005,\n",
       " 3.2442,\n",
       " 2.8854,\n",
       " 2.7932,\n",
       " 3.133,\n",
       " 2.9348,\n",
       " 2.8284,\n",
       " 2.9551999999999996,\n",
       " 2.9537999999999998,\n",
       " 2.6924,\n",
       " 3.0084000000000004,\n",
       " 3.3079999999999994,\n",
       " 2.9463999999999997,\n",
       " 2.9309999999999996,\n",
       " 3.1382,\n",
       " 2.8742,\n",
       " 3.0383999999999998,\n",
       " 3.2176,\n",
       " 2.9410000000000003,\n",
       " 3.2252000000000005,\n",
       " 3.0932,\n",
       " 3.0648,\n",
       " 2.9616000000000002,\n",
       " 3.2812000000000006,\n",
       " 2.9374000000000002,\n",
       " 3.1077999999999997,\n",
       " 3.1594000000000007,\n",
       " 2.9402,\n",
       " 3.0439999999999996,\n",
       " 2.8692,\n",
       " 3.3673999999999995,\n",
       " 2.9468,\n",
       " 2.9356,\n",
       " 3.0268000000000006,\n",
       " 3.0046000000000004,\n",
       " 2.9419999999999997,\n",
       " 3.1846000000000005,\n",
       " 2.8726000000000003,\n",
       " 2.9162,\n",
       " 3.2028000000000003,\n",
       " 2.872000000000001,\n",
       " 3.0398,\n",
       " 3.1428,\n",
       " 2.8501999999999996,\n",
       " 3.0404,\n",
       " 3.069,\n",
       " 3.0818,\n",
       " 3.2894,\n",
       " 3.3392,\n",
       " 3.1512000000000002,\n",
       " 2.878,\n",
       " 3.1014,\n",
       " 2.9044,\n",
       " 2.9241999999999995,\n",
       " 2.9745999999999997,\n",
       " 2.7972,\n",
       " 2.7414000000000005,\n",
       " 3.3051999999999997,\n",
       " 3.0768000000000004,\n",
       " 3.2228000000000003,\n",
       " 3.0416,\n",
       " 2.873,\n",
       " 2.8002,\n",
       " 3.0576,\n",
       " 3.0584000000000002,\n",
       " 2.8188000000000004,\n",
       " 2.9769999999999994,\n",
       " 2.9603999999999995,\n",
       " 2.8996000000000004,\n",
       " 3.2933999999999997,\n",
       " 3.075,\n",
       " 3.0067999999999997,\n",
       " 2.9818000000000002,\n",
       " 3.1959999999999997,\n",
       " 2.7438,\n",
       " 3.4019999999999997,\n",
       " 2.7666000000000004,\n",
       " 3.0324,\n",
       " 3.0696000000000003,\n",
       " 3.3080000000000003,\n",
       " 2.8522,\n",
       " 3.0368,\n",
       " 2.8501999999999996,\n",
       " 3.0412,\n",
       " 3.2207999999999997,\n",
       " 3.1992000000000003,\n",
       " 2.827,\n",
       " 3.0978,\n",
       " 2.9781999999999997,\n",
       " 2.8868000000000005,\n",
       " 2.7418,\n",
       " 2.9596,\n",
       " 2.8844,\n",
       " 2.9627999999999997,\n",
       " 3.157,\n",
       " 2.9681999999999995,\n",
       " 2.984200000000001,\n",
       " 2.8912,\n",
       " 2.8489999999999998,\n",
       " 2.7689999999999997,\n",
       " 2.8874,\n",
       " 3.1382,\n",
       " 2.8538,\n",
       " 2.8254,\n",
       " 3.1496,\n",
       " 2.8680000000000003,\n",
       " 3.0422000000000002,\n",
       " 3.0356,\n",
       " 2.7422000000000004,\n",
       " 2.8708000000000005,\n",
       " 3.1582,\n",
       " 2.9772,\n",
       " 2.8152,\n",
       " 2.8178,\n",
       " 2.8672000000000004,\n",
       " 3.0644,\n",
       " 3.2484,\n",
       " 3.1519999999999997,\n",
       " 2.7562,\n",
       " 3.2051999999999996,\n",
       " 3.0582,\n",
       " 3.0570000000000004,\n",
       " 2.8062,\n",
       " 2.7119999999999997,\n",
       " 2.988,\n",
       " 2.9604000000000004,\n",
       " 3.1113999999999997,\n",
       " 2.7766,\n",
       " 2.7154000000000003,\n",
       " 2.9671999999999996,\n",
       " 2.7462,\n",
       " 2.9978,\n",
       " 3.2658000000000005,\n",
       " 2.9388,\n",
       " 3.4368,\n",
       " 2.8026,\n",
       " 3.0634,\n",
       " 3.1572000000000005,\n",
       " 3.2368,\n",
       " 3.0358,\n",
       " 2.932,\n",
       " 2.9126000000000003,\n",
       " 3.0844,\n",
       " 2.7992000000000004,\n",
       " 2.8169999999999993,\n",
       " 3.1085999999999996,\n",
       " 2.95,\n",
       " 2.7184000000000004,\n",
       " 2.8718,\n",
       " 3.0352000000000006,\n",
       " 3.0994,\n",
       " 2.8624,\n",
       " 2.7018,\n",
       " 2.8408,\n",
       " 2.702,\n",
       " 3.0312,\n",
       " 2.8876,\n",
       " 3.1568,\n",
       " 2.767,\n",
       " 2.9578,\n",
       " 3.0425999999999997,\n",
       " 2.865,\n",
       " 3.0276,\n",
       " 3.0894,\n",
       " 3.0579999999999994,\n",
       " 2.9718,\n",
       " 2.7880000000000003,\n",
       " 3.2752,\n",
       " 2.8752000000000004,\n",
       " 2.7464,\n",
       " 3.0315999999999996,\n",
       " 2.8983999999999996,\n",
       " 3.2620000000000005,\n",
       " 3.1883999999999997,\n",
       " 2.9620000000000006,\n",
       " 2.9876000000000005,\n",
       " 3.1563999999999997,\n",
       " 2.8708000000000005,\n",
       " 2.9896,\n",
       " 2.9736000000000002,\n",
       " 3.0849999999999995,\n",
       " 2.9991999999999996,\n",
       " 2.7574000000000005,\n",
       " 3.2066,\n",
       " 3.1635999999999997,\n",
       " 2.889,\n",
       " 2.9922000000000004,\n",
       " 2.8295999999999997,\n",
       " 3.0324,\n",
       " 2.943,\n",
       " 2.8054,\n",
       " 3.0334000000000003,\n",
       " 3.1308,\n",
       " 2.8596000000000004,\n",
       " 2.89,\n",
       " 3.1206000000000005,\n",
       " 2.9926,\n",
       " 2.8764,\n",
       " 2.7592000000000003,\n",
       " 3.3082,\n",
       " 2.6719999999999997,\n",
       " 2.864,\n",
       " 2.9106,\n",
       " 2.7729999999999997,\n",
       " 2.9076,\n",
       " 3.0904,\n",
       " 3.1166,\n",
       " 2.96,\n",
       " 2.83,\n",
       " 3.0176,\n",
       " 3.1038,\n",
       " 2.8501999999999996,\n",
       " 2.9236,\n",
       " 3.0027999999999997,\n",
       " 3.0056,\n",
       " 3.0457999999999994,\n",
       " 2.926,\n",
       " 2.9314,\n",
       " 3.1388,\n",
       " 3.5318,\n",
       " 3.264,\n",
       " 2.7744,\n",
       " 3.1698000000000004,\n",
       " 2.9998,\n",
       " 3.0264000000000006,\n",
       " 2.9577999999999998,\n",
       " 2.9548,\n",
       " 2.6544,\n",
       " 2.7662000000000004,\n",
       " 3.1752000000000002,\n",
       " 2.8042000000000002,\n",
       " 2.9924,\n",
       " 2.8514,\n",
       " 3.0718,\n",
       " 3.1889999999999996,\n",
       " 3.0922,\n",
       " 2.731,\n",
       " 2.8588,\n",
       " 2.9341999999999997,\n",
       " 2.9614,\n",
       " 3.1153999999999997,\n",
       " 3.1683999999999997,\n",
       " 2.7758000000000003,\n",
       " 2.8652,\n",
       " 3.1306,\n",
       " 2.7182,\n",
       " 3.0356,\n",
       " 2.9551999999999996,\n",
       " 2.8112,\n",
       " 3.1334,\n",
       " 2.9006,\n",
       " 2.9788,\n",
       " 3.0552000000000006,\n",
       " 2.8267999999999995,\n",
       " 3.4577999999999998,\n",
       " 3.2306,\n",
       " 2.7287999999999992,\n",
       " 2.9790000000000005,\n",
       " 2.7573999999999996,\n",
       " 2.958,\n",
       " 3.3828000000000005,\n",
       " 3.238,\n",
       " 3.2586,\n",
       " 3.0545999999999998,\n",
       " 3.1557999999999997,\n",
       " 2.9747999999999997,\n",
       " 2.8538,\n",
       " 2.6915999999999998,\n",
       " 3.0181999999999998,\n",
       " 2.8939999999999997,\n",
       " 2.9468,\n",
       " 3.1244,\n",
       " 2.9406,\n",
       " 3.2365999999999997,\n",
       " 2.9576,\n",
       " 3.0546,\n",
       " 3.0736000000000003,\n",
       " 3.346,\n",
       " 3.1713999999999998,\n",
       " 3.4142,\n",
       " 2.6320000000000006,\n",
       " 3.2212,\n",
       " 2.8745999999999996,\n",
       " 2.6889999999999996,\n",
       " 3.1082,\n",
       " 2.8423999999999996,\n",
       " 3.1304,\n",
       " 2.7304000000000004,\n",
       " 3.0228,\n",
       " 2.9226,\n",
       " 2.6837999999999997,\n",
       " 3.0527999999999995,\n",
       " 2.7706,\n",
       " 2.9547999999999996,\n",
       " 3.075,\n",
       " 3.0118,\n",
       " 3.1313999999999997,\n",
       " 3.0826000000000007,\n",
       " 2.9452000000000003,\n",
       " 3.0976000000000004,\n",
       " 2.8788,\n",
       " 3.1456,\n",
       " 2.8429999999999995,\n",
       " 2.9964,\n",
       " 2.9428,\n",
       " 2.8729999999999993,\n",
       " 3.2150000000000007,\n",
       " 2.6904000000000003,\n",
       " 2.8503999999999996,\n",
       " 2.8759999999999994,\n",
       " 2.5684000000000005,\n",
       " 3.1694,\n",
       " 2.8487999999999998,\n",
       " 3.3608000000000002,\n",
       " 3.1018,\n",
       " 3.0682,\n",
       " 3.2081999999999997,\n",
       " 2.9215999999999998,\n",
       " 2.9494000000000007,\n",
       " 3.1748000000000003,\n",
       " 3.1156,\n",
       " 2.9254,\n",
       " 3.1075999999999997,\n",
       " 2.73,\n",
       " 3.2670000000000003,\n",
       " 3.2198,\n",
       " 2.8376000000000006,\n",
       " 2.7454,\n",
       " 3.1327999999999996,\n",
       " 3.13,\n",
       " 2.9829999999999988,\n",
       " 2.8983999999999996,\n",
       " 2.7734000000000005,\n",
       " 2.8947999999999996,\n",
       " 3.1343999999999994,\n",
       " 3.0682,\n",
       " 2.9708000000000006,\n",
       " 2.9029999999999996,\n",
       " 2.9205999999999994,\n",
       " 3.1096,\n",
       " 3.0532000000000004,\n",
       " 3.0427999999999997,\n",
       " 2.9326,\n",
       " 3.0002000000000004,\n",
       " 2.9906,\n",
       " 2.8204,\n",
       " 2.8642000000000003,\n",
       " 3.114,\n",
       " 2.9515999999999996,\n",
       " 3.022,\n",
       " 2.9982000000000006,\n",
       " 2.943,\n",
       " 3.2548000000000004,\n",
       " 3.0524,\n",
       " 3.2126,\n",
       " 3.1834,\n",
       " 3.0167999999999995,\n",
       " 3.0238,\n",
       " 2.9348,\n",
       " 2.8955999999999995,\n",
       " 3.0890000000000004,\n",
       " 2.8303999999999996,\n",
       " 3.2902000000000005,\n",
       " 2.9219999999999997,\n",
       " 2.7992000000000004,\n",
       " 3.003,\n",
       " 2.8008000000000006,\n",
       " 2.9130000000000003,\n",
       " 2.8783999999999996,\n",
       " 2.9560000000000004,\n",
       " 2.9378,\n",
       " 3.0666,\n",
       " 2.9248000000000003,\n",
       " 2.944,\n",
       " 3.4941999999999998,\n",
       " 3.1894000000000005,\n",
       " 2.6336,\n",
       " 2.9654000000000003,\n",
       " 3.0713999999999997,\n",
       " 3.2461999999999995,\n",
       " 3.0076,\n",
       " 2.8246,\n",
       " 3.1634,\n",
       " 3.1771999999999996,\n",
       " 3.1042,\n",
       " 2.8786,\n",
       " 2.8524000000000003,\n",
       " 2.9577999999999998,\n",
       " 2.6660000000000004,\n",
       " 3.1218,\n",
       " 2.952,\n",
       " 2.7992000000000004,\n",
       " 2.9789999999999996,\n",
       " 2.9698,\n",
       " 2.9983999999999997,\n",
       " 2.846,\n",
       " 3.0027999999999997,\n",
       " 3.1729999999999996,\n",
       " 3.0555999999999996,\n",
       " 2.9271999999999996,\n",
       " 3.1601999999999997,\n",
       " 3.2237999999999998,\n",
       " 3.295999999999999,\n",
       " 3.1728000000000005,\n",
       " 3.0350000000000006,\n",
       " 3.1348,\n",
       " 2.9224,\n",
       " 2.5518,\n",
       " 2.9002,\n",
       " 3.1431999999999998,\n",
       " 2.9789999999999996,\n",
       " 3.0866,\n",
       " 2.9465999999999997,\n",
       " 3.1351999999999998,\n",
       " 3.1141999999999994,\n",
       " 3.1195999999999997,\n",
       " 2.928,\n",
       " 3.1622,\n",
       " 2.7510000000000003,\n",
       " 2.8604,\n",
       " 3.0244,\n",
       " 3.0551999999999992,\n",
       " 2.9026000000000005,\n",
       " 2.9013999999999998,\n",
       " 2.7983999999999996,\n",
       " 3.1401999999999997,\n",
       " 3.1338,\n",
       " 3.2365999999999997,\n",
       " 2.9858,\n",
       " 2.92,\n",
       " 3.1386000000000003,\n",
       " 3.0774,\n",
       " 2.8970000000000002,\n",
       " 2.8926000000000003,\n",
       " 2.8342,\n",
       " 2.677,\n",
       " 2.637,\n",
       " 3.0476,\n",
       " 3.0477999999999996,\n",
       " 3.3836,\n",
       " 2.9098,\n",
       " 2.9594,\n",
       " 2.8118,\n",
       " 2.8265999999999996,\n",
       " 3.023,\n",
       " 2.9724,\n",
       " 3.1412,\n",
       " 3.0521999999999996,\n",
       " 2.966,\n",
       " 2.6403999999999996,\n",
       " 3.3374,\n",
       " 3.0246,\n",
       " 3.1836,\n",
       " 2.8018,\n",
       " 3.1988,\n",
       " 2.7851999999999997,\n",
       " 2.7791999999999994,\n",
       " 2.9352,\n",
       " 2.9604000000000004,\n",
       " 2.9912,\n",
       " 2.8476,\n",
       " 2.9160000000000004,\n",
       " 3.1482,\n",
       " 2.747,\n",
       " 2.7838,\n",
       " 2.7460000000000004,\n",
       " 2.9192,\n",
       " 2.8926,\n",
       " 2.7291999999999996,\n",
       " 2.9232,\n",
       " 2.917,\n",
       " 3.2126,\n",
       " 3.176,\n",
       " 3.2464,\n",
       " 2.914,\n",
       " 3.1862,\n",
       " 2.8728000000000007,\n",
       " 3.056,\n",
       " 3.2417999999999996,\n",
       " 2.8924000000000003,\n",
       " 2.8466000000000005,\n",
       " 3.2182000000000004,\n",
       " 3.1724000000000006,\n",
       " 3.1283999999999996,\n",
       " 3.0516,\n",
       " 2.9030000000000005,\n",
       " 3.2858,\n",
       " 3.0364,\n",
       " 3.1884,\n",
       " 3.0074,\n",
       " 2.6628,\n",
       " 2.9136,\n",
       " 3.0367999999999995,\n",
       " 3.046,\n",
       " 3.1795999999999998,\n",
       " 2.9802000000000004,\n",
       " 3.3533999999999997,\n",
       " 2.7312,\n",
       " 2.8902000000000005,\n",
       " 2.7081999999999993,\n",
       " 3.3013999999999997,\n",
       " 2.843,\n",
       " 3.0161999999999995,\n",
       " 3.1176,\n",
       " 2.9394,\n",
       " 3.0948,\n",
       " 3.16,\n",
       " 3.01,\n",
       " 3.1966,\n",
       " 3.3158,\n",
       " 3.0202,\n",
       " 3.0320000000000005,\n",
       " 2.9424000000000006,\n",
       " 3.1908,\n",
       " 2.8908,\n",
       " 3.1774,\n",
       " 2.9963999999999995,\n",
       " 2.8016,\n",
       " 2.8209999999999997,\n",
       " 3.1544,\n",
       " 2.8122000000000003,\n",
       " 2.9962,\n",
       " 3.072,\n",
       " 3.2168,\n",
       " 2.8212,\n",
       " 2.8194,\n",
       " 2.8232,\n",
       " 2.9247999999999994,\n",
       " 3.0602,\n",
       " 2.7258,\n",
       " 2.9758,\n",
       " 2.8652,\n",
       " 3.0646000000000004,\n",
       " 2.764,\n",
       " 2.5472,\n",
       " 2.9642,\n",
       " 3.1538,\n",
       " 3.1354,\n",
       " 2.9257999999999997,\n",
       " 2.8971999999999998,\n",
       " 3.225,\n",
       " 2.8796000000000004,\n",
       " 2.5429999999999997,\n",
       " 3.1788,\n",
       " 2.9386,\n",
       " 2.8922,\n",
       " 2.9747999999999997,\n",
       " 2.7961999999999994,\n",
       " 2.8838000000000004,\n",
       " 2.9412000000000003,\n",
       " 2.9798,\n",
       " 2.7994000000000003,\n",
       " 2.9814,\n",
       " 3.0318,\n",
       " 2.978,\n",
       " 2.9808000000000003,\n",
       " 2.8426000000000005,\n",
       " 2.8538,\n",
       " 2.8994,\n",
       " 3.158,\n",
       " 3.0394,\n",
       " 3.1626000000000003,\n",
       " 2.9246,\n",
       " 2.967,\n",
       " 3.2,\n",
       " 2.7234,\n",
       " 3.0402,\n",
       " 2.9882,\n",
       " 3.122,\n",
       " 3.0694000000000004,\n",
       " 2.7354000000000003,\n",
       " 3.2206,\n",
       " 2.8793999999999995,\n",
       " 2.9410000000000003,\n",
       " 3.208,\n",
       " 2.7799999999999994,\n",
       " 3.1253999999999995,\n",
       " 2.9398,\n",
       " 2.8057999999999996,\n",
       " 3.1384,\n",
       " 2.8245999999999998,\n",
       " 2.9775999999999994,\n",
       " 2.8947999999999996,\n",
       " 2.5968,\n",
       " 2.7853999999999997,\n",
       " 2.8834000000000004,\n",
       " 2.909,\n",
       " 2.8726,\n",
       " 2.7849999999999993,\n",
       " 2.992,\n",
       " 2.929,\n",
       " 3.1308,\n",
       " 3.0008,\n",
       " 3.0794000000000006,\n",
       " 3.0484000000000004,\n",
       " 2.8644,\n",
       " 3.1803999999999997,\n",
       " 2.803,\n",
       " 2.7186000000000003,\n",
       " 3.0514000000000006,\n",
       " 3.0666,\n",
       " 3.0460000000000003,\n",
       " 2.7651999999999997,\n",
       " 3.188,\n",
       " 2.8878000000000004,\n",
       " 2.8901999999999997,\n",
       " 3.0288,\n",
       " 3.3906,\n",
       " 2.8696,\n",
       " 2.9406,\n",
       " 3.1475999999999997,\n",
       " 2.8783999999999996,\n",
       " 2.9608000000000003,\n",
       " 3.3354000000000004,\n",
       " 2.9312,\n",
       " 3.0869999999999997,\n",
       " 3.0016,\n",
       " 2.8376,\n",
       " 3.0988000000000007,\n",
       " 2.8394,\n",
       " 2.9979999999999993,\n",
       " 2.467,\n",
       " 3.24,\n",
       " 2.9002,\n",
       " 3.1584,\n",
       " 3.1068000000000002,\n",
       " 3.2436000000000003,\n",
       " 2.9942,\n",
       " 2.5736000000000003,\n",
       " 2.8526,\n",
       " 2.8348,\n",
       " 3.0008000000000004,\n",
       " 3.1576,\n",
       " 2.7060000000000004,\n",
       " 2.8988,\n",
       " 2.9833999999999996,\n",
       " 2.9012000000000002,\n",
       " 3.0004000000000004,\n",
       " 2.784,\n",
       " 3.0482,\n",
       " 3.274599999999999,\n",
       " 2.8865999999999996,\n",
       " 2.8658000000000006,\n",
       " 3.1151999999999997,\n",
       " 2.9084,\n",
       " 3.1195999999999997,\n",
       " 3.2170000000000005,\n",
       " 3.2532,\n",
       " 2.9806,\n",
       " 2.69,\n",
       " 3.1454000000000004,\n",
       " 3.042,\n",
       " 2.9508000000000005,\n",
       " 3.0418000000000003,\n",
       " 2.9879999999999995,\n",
       " 2.7849999999999993,\n",
       " 3.0906000000000002,\n",
       " 3.0951999999999993,\n",
       " 3.1932,\n",
       " 3.0356000000000005,\n",
       " 3.1614,\n",
       " 2.6475999999999997,\n",
       " 2.9933999999999994,\n",
       " 3.2004,\n",
       " 2.8424,\n",
       " 2.7746000000000004,\n",
       " 2.9452,\n",
       " 3.3009999999999997,\n",
       " 3.0674,\n",
       " 2.9432,\n",
       " 3.0944,\n",
       " 3.0797999999999996,\n",
       " 2.9904,\n",
       " 3.2362,\n",
       " 2.7614,\n",
       " 2.9111999999999996,\n",
       " 3.1036,\n",
       " 2.8206,\n",
       " 3.0025999999999997,\n",
       " 2.9018,\n",
       " 3.1082,\n",
       " 2.8391999999999995,\n",
       " 3.0399999999999996,\n",
       " 2.9159999999999995,\n",
       " 2.8788,\n",
       " 2.926,\n",
       " 3.0507999999999997,\n",
       " 2.7192000000000003,\n",
       " 3.0313999999999997,\n",
       " 2.9756,\n",
       " 3.0727999999999995,\n",
       " 3.0158,\n",
       " 3.1118,\n",
       " 3.0844,\n",
       " 3.0138,\n",
       " 3.102,\n",
       " 2.9844,\n",
       " 3.169800000000001,\n",
       " 3.2398000000000002,\n",
       " 2.659,\n",
       " 2.8629999999999995,\n",
       " 3.2141999999999995,\n",
       " 3.1582,\n",
       " 2.9192,\n",
       " 3.1214,\n",
       " 3.17,\n",
       " 3.1726,\n",
       " 3.3819999999999992,\n",
       " 2.8911999999999995,\n",
       " 2.7571999999999997,\n",
       " 2.9656000000000002,\n",
       " 2.51,\n",
       " 2.9394000000000005,\n",
       " 3.097,\n",
       " 2.7772,\n",
       " 2.8558,\n",
       " 3.1324,\n",
       " 2.8204000000000002,\n",
       " 2.9477999999999995,\n",
       " 2.783,\n",
       " 2.6502,\n",
       " 2.9307999999999996,\n",
       " 2.6965999999999997,\n",
       " 2.8922000000000003,\n",
       " 3.2392000000000003,\n",
       " 3.0512,\n",
       " 2.7215999999999996,\n",
       " 3.0292000000000003,\n",
       " 2.6704000000000003,\n",
       " 2.9938,\n",
       " 2.5122000000000004,\n",
       " 3.0432,\n",
       " 3.0479999999999996,\n",
       " 2.9076,\n",
       " 3.0606,\n",
       " 2.8279999999999994,\n",
       " 2.972,\n",
       " 3.3436000000000003,\n",
       " 3.3846000000000003,\n",
       " 2.9104,\n",
       " 3.2958000000000003,\n",
       " 3.0410000000000004,\n",
       " 3.4362,\n",
       " 3.0162,\n",
       " 2.948,\n",
       " 3.2829999999999995,\n",
       " 2.952,\n",
       " 3.0971999999999995,\n",
       " 2.915199999999999,\n",
       " 3.0294,\n",
       " 3.0698000000000003,\n",
       " 2.7818,\n",
       " 2.9556000000000004,\n",
       " 3.0484000000000004,\n",
       " 3.0076,\n",
       " 2.8917999999999995,\n",
       " 2.8455999999999992,\n",
       " 3.086,\n",
       " 2.6795999999999998,\n",
       " 3.2076,\n",
       " 2.9482,\n",
       " 2.858,\n",
       " 2.9241999999999995,\n",
       " 2.9474,\n",
       " 3.2008000000000005,\n",
       " 2.8494000000000006,\n",
       " 3.1726000000000005,\n",
       " 2.94,\n",
       " 2.9364,\n",
       " 2.9021999999999997,\n",
       " 2.9346000000000005,\n",
       " 2.9618,\n",
       " 2.969,\n",
       " 3.194,\n",
       " 2.7004,\n",
       " 2.9346000000000005,\n",
       " 3.0304,\n",
       " 3.241,\n",
       " 2.9594,\n",
       " 3.0403999999999995,\n",
       " 2.7424,\n",
       " 2.9441999999999995,\n",
       " 3.2284,\n",
       " 2.6921999999999997,\n",
       " 3.1908,\n",
       " 3.0364,\n",
       " 2.9556,\n",
       " 2.8813999999999997,\n",
       " 3.3712,\n",
       " 3.0713999999999997,\n",
       " 2.9938,\n",
       " 3.1898,\n",
       " 3.1073999999999997,\n",
       " 2.9926,\n",
       " 3.0370000000000004,\n",
       " 3.3053999999999997,\n",
       " 3.2649999999999992,\n",
       " 3.3808,\n",
       " 2.9589999999999996,\n",
       " 3.162,\n",
       " 3.1918,\n",
       " 2.8979999999999997,\n",
       " 2.903,\n",
       " 2.8004,\n",
       " 3.1364000000000005,\n",
       " 2.9192,\n",
       " 3.055,\n",
       " 2.8421999999999996,\n",
       " 3.0082,\n",
       " 3.0404,\n",
       " 2.9612,\n",
       " 2.7929999999999997,\n",
       " 3.0791999999999997,\n",
       " 2.8574,\n",
       " 2.8238,\n",
       " 2.8624,\n",
       " 2.7456000000000005,\n",
       " 2.8796000000000004,\n",
       " 3.0662000000000003,\n",
       " 2.7760000000000002,\n",
       " 3.0418000000000003,\n",
       " 2.8526000000000007,\n",
       " 3.2340000000000004,\n",
       " 2.8970000000000002,\n",
       " 2.8615999999999997,\n",
       " 2.7656000000000005,\n",
       " 2.9315999999999995,\n",
       " 3.0202,\n",
       " 3.1352,\n",
       " 2.9930000000000003,\n",
       " 2.9344,\n",
       " 2.7118,\n",
       " 2.9172,\n",
       " 3.1834000000000002,\n",
       " 3.2838,\n",
       " 3.258,\n",
       " 2.9232,\n",
       " 2.8444000000000007,\n",
       " 2.9479999999999995,\n",
       " 3.5896000000000003,\n",
       " 2.8413999999999997,\n",
       " 2.9947999999999997,\n",
       " 2.9182,\n",
       " 3.0329999999999995,\n",
       " 2.9097999999999997,\n",
       " 3.1912000000000003,\n",
       " 3.1056,\n",
       " 2.9082,\n",
       " 2.5974,\n",
       " 3.0986000000000002,\n",
       " 2.907,\n",
       " 3.0241999999999996,\n",
       " 3.2935999999999996,\n",
       " 2.9871999999999996,\n",
       " 2.6658000000000004,\n",
       " 2.9452000000000003,\n",
       " 3.2878,\n",
       " 2.813400000000001,\n",
       " 2.813799999999999,\n",
       " 2.6262,\n",
       " 3.1144,\n",
       " 3.1282,\n",
       " 3.3303999999999996,\n",
       " 3.1884,\n",
       " 2.6848,\n",
       " 2.9576,\n",
       " 2.8616,\n",
       " 2.8326,\n",
       " 3.1176,\n",
       " 2.9884000000000004,\n",
       " 2.9223999999999997,\n",
       " 3.4179999999999997,\n",
       " 2.987,\n",
       " 3.2100000000000004,\n",
       " 2.7842000000000002,\n",
       " 2.8520000000000003,\n",
       " 2.8892,\n",
       " 2.8241999999999994,\n",
       " 2.919599999999999,\n",
       " 3.2024,\n",
       " 2.8998000000000004,\n",
       " 2.9972,\n",
       " 2.8399999999999994,\n",
       " 2.9032,\n",
       " 3.2096000000000005,\n",
       " 3.0186,\n",
       " 3.1218,\n",
       " 3.266,\n",
       " 2.9819999999999998,\n",
       " 2.9129999999999994,\n",
       " 2.9818000000000002,\n",
       " 2.8732000000000006,\n",
       " 2.9981999999999998,\n",
       " 2.9226,\n",
       " 3.3953999999999995,\n",
       " 3.1912000000000003,\n",
       " 2.9254000000000002,\n",
       " 3.1290000000000004,\n",
       " 2.911,\n",
       " 3.0196000000000005,\n",
       " 3.3882,\n",
       " 2.9632,\n",
       " 3.1197999999999997,\n",
       " 3.037,\n",
       " 3.0766000000000004,\n",
       " 2.8964000000000003,\n",
       " 3.1428,\n",
       " 3.0098]"
      ]
     },
     "execution_count": 311,
     "metadata": {},
     "output_type": "execute_result"
    }
   ],
   "source": [
    "sample_means"
   ]
  },
  {
   "cell_type": "markdown",
   "metadata": {},
   "source": [
    "## 不偏分散"
   ]
  },
  {
   "cell_type": "code",
   "execution_count": 333,
   "metadata": {},
   "outputs": [
    {
     "data": {
      "text/plain": [
       "1.914454638062471"
      ]
     },
     "execution_count": 333,
     "metadata": {},
     "output_type": "execute_result"
    }
   ],
   "source": [
    "#不偏分散\n",
    "stats.tvar(df['tip'])"
   ]
  },
  {
   "cell_type": "code",
   "execution_count": 335,
   "metadata": {},
   "outputs": [
    {
     "data": {
      "text/plain": [
       "1.914454638062471"
      ]
     },
     "execution_count": 335,
     "metadata": {},
     "output_type": "execute_result"
    }
   ],
   "source": [
    "np.var(df['tip'], ddof=1)"
   ]
  },
  {
   "cell_type": "code",
   "execution_count": 336,
   "metadata": {},
   "outputs": [
    {
     "data": {
      "text/plain": [
       "1.3836381890011822"
      ]
     },
     "execution_count": 336,
     "metadata": {},
     "output_type": "execute_result"
    }
   ],
   "source": [
    "# 不偏分散の平方根\n",
    "np.sqrt(stats.tvar(df['tip']))"
   ]
  },
  {
   "cell_type": "code",
   "execution_count": 337,
   "metadata": {},
   "outputs": [
    {
     "data": {
      "text/plain": [
       "1.3836381890011822"
      ]
     },
     "execution_count": 337,
     "metadata": {},
     "output_type": "execute_result"
    }
   ],
   "source": [
    "stats.tstd(df['tip'])"
   ]
  },
  {
   "cell_type": "code",
   "execution_count": 340,
   "metadata": {},
   "outputs": [
    {
     "data": {
      "text/plain": [
       "1.3836381890011822"
      ]
     },
     "execution_count": 340,
     "metadata": {},
     "output_type": "execute_result"
    }
   ],
   "source": [
    "np.std(df['tip'], ddof=1)"
   ]
  },
  {
   "cell_type": "markdown",
   "metadata": {},
   "source": [
    "## 不偏分散の不偏性"
   ]
  },
  {
   "cell_type": "code",
   "execution_count": 347,
   "metadata": {},
   "outputs": [],
   "source": [
    "m = 1000\n",
    "n = 50\n",
    "column = 'tip'\n",
    "sample_vars = []\n",
    "sample_uvars = []\n",
    "for i in range(m):\n",
    "    sample_df = df.sample(n) # 標本をランダムに抽出\n",
    "    sample_var = np.var(sample_df[column]) # 標本分散\n",
    "    sample_uvar = stats.tvar(sample_df[column]) # 不偏分散\n",
    "    sample_vars.append(sample_var) # 標本分散をリストに追加\n",
    "    sample_uvars.append(sample_uvar) # 不偏分散をリストに追加"
   ]
  },
  {
   "cell_type": "code",
   "execution_count": 348,
   "metadata": {},
   "outputs": [
    {
     "data": {
      "text/plain": [
       "1.9030919025714286"
      ]
     },
     "execution_count": 348,
     "metadata": {},
     "output_type": "execute_result"
    }
   ],
   "source": [
    "# 標本の不偏分散の平均\n",
    "np.mean(sample_uvars)"
   ]
  },
  {
   "cell_type": "code",
   "execution_count": 349,
   "metadata": {},
   "outputs": [
    {
     "data": {
      "text/plain": [
       "1.9066085124966412"
      ]
     },
     "execution_count": 349,
     "metadata": {},
     "output_type": "execute_result"
    }
   ],
   "source": [
    "# 母分散\n",
    "np.var(df[column])"
   ]
  },
  {
   "cell_type": "code",
   "execution_count": 350,
   "metadata": {},
   "outputs": [
    {
     "data": {
      "text/plain": [
       "1.86503006452"
      ]
     },
     "execution_count": 350,
     "metadata": {},
     "output_type": "execute_result"
    }
   ],
   "source": [
    "# 標本の分散の平均\n",
    "np.mean(sample_vars)"
   ]
  },
  {
   "cell_type": "markdown",
   "metadata": {},
   "source": [
    "## 比率の区間推定"
   ]
  },
  {
   "cell_type": "code",
   "execution_count": 387,
   "metadata": {},
   "outputs": [
    {
     "data": {
      "text/plain": [
       "(570.0, 630.0)"
      ]
     },
     "execution_count": 387,
     "metadata": {},
     "output_type": "execute_result"
    }
   ],
   "source": [
    "stats.binom.interval(0.95, 1000, 0.6) # 二項分布の区間推定"
   ]
  },
  {
   "cell_type": "code",
   "execution_count": 366,
   "metadata": {},
   "outputs": [
    {
     "data": {
      "text/plain": [
       "(560.0, 640.0)"
      ]
     },
     "execution_count": 366,
     "metadata": {},
     "output_type": "execute_result"
    }
   ],
   "source": [
    "stats.binom.interval(0.99, 1000, 0.6) # 二項分布の区間推定"
   ]
  },
  {
   "cell_type": "code",
   "execution_count": 391,
   "metadata": {},
   "outputs": [],
   "source": [
    "# データセットを母集団とみなして、何回正しく推定できるかを確認する\n",
    "n = 50\n",
    "m = 100\n",
    "alpha = 0.95\n",
    "population_male_ratio = len(df[df['sex']=='Male']) / len(df) # 母集団の男性の割合\n",
    "for _ in range(m):\n",
    "    sample_df = df.sample(n) # 標本をランダムに抽出\n",
    "    male_ratio = len(sample_df[sample_df['sex']=='Male'])/len(sample_df) # 標本の男性の割合\n",
    "    min_num, max_num = stats.binom.interval(alpha, n=n, p=male_ratio) # 信頼区間を計算\n",
    "    min_ratio = min_num / n # 信頼区間の下限\n",
    "    max_ratio = max_num / n # 信頼区間の上限\n",
    "    correct = min_ratio < population_male_ratio < max_ratio # 母集団の男性の割合が信頼区間に入っているか\n",
    "    results.append({'min': min_ratio, 'max': max_ratio, 'correct':correct}) # 結果を記録"
   ]
  },
  {
   "cell_type": "code",
   "execution_count": 395,
   "metadata": {},
   "outputs": [],
   "source": [
    "result_df = pd.DataFrame(results)"
   ]
  },
  {
   "cell_type": "code",
   "execution_count": 396,
   "metadata": {},
   "outputs": [
    {
     "data": {
      "text/plain": [
       "correct\n",
       "True     94\n",
       "False     6\n",
       "Name: count, dtype: int64"
      ]
     },
     "execution_count": 396,
     "metadata": {},
     "output_type": "execute_result"
    }
   ],
   "source": [
    "# 何回正しく推定できたかを確認する\n",
    "result_df['correct'].value_counts()"
   ]
  },
  {
   "cell_type": "markdown",
   "metadata": {},
   "source": [
    "## 平均の区間推定"
   ]
  },
  {
   "cell_type": "code",
   "execution_count": 403,
   "metadata": {},
   "outputs": [],
   "source": [
    "column = 'tip'\n",
    "alpha = 0.95\n",
    "n = 50\n",
    "m = 100\n",
    "population_mean = df[column].mean() # 母平均\n",
    "results = []\n",
    "for _ in range(m):\n",
    "    sample_df = df.sample(n) # 標本抽出\n",
    "    sample_mean = sample_df[column].mean() # 標本平均\n",
    "    sample_var = stats.tvar(sample_df[column]) # 標本分散\n",
    "    min_val, max_val = stats.norm.interval(alpha, loc=sample_mean, scale=np.sqrt(sample_var/n)) # 信頼区間を計算\n",
    "    correct = min_val < population_mean < max_val # 母平均が信頼区間に含まれるか\n",
    "    results.append({'min': min_val, 'max': max_val, 'correct': correct}) # 結果を格納"
   ]
  },
  {
   "cell_type": "code",
   "execution_count": 404,
   "metadata": {},
   "outputs": [],
   "source": [
    "result_df = pd.DataFrame(results)"
   ]
  },
  {
   "cell_type": "code",
   "execution_count": 405,
   "metadata": {},
   "outputs": [
    {
     "data": {
      "text/plain": [
       "correct\n",
       "True     95\n",
       "False     5\n",
       "Name: count, dtype: int64"
      ]
     },
     "execution_count": 405,
     "metadata": {},
     "output_type": "execute_result"
    }
   ],
   "source": [
    "result_df['correct'].value_counts()"
   ]
  },
  {
   "cell_type": "markdown",
   "metadata": {},
   "source": [
    "## t分布"
   ]
  },
  {
   "cell_type": "code",
   "execution_count": 426,
   "metadata": {},
   "outputs": [
    {
     "data": {
      "text/plain": [
       "<matplotlib.legend.Legend at 0x198967e9810>"
      ]
     },
     "execution_count": 426,
     "metadata": {},
     "output_type": "execute_result"
    },
    {
     "data": {
      "image/png": "[encoded data removed]",
      "text/plain": [
       "<Figure size 640x480 with 1 Axes>"
      ]
     },
     "metadata": {},
     "output_type": "display_data"
    }
   ],
   "source": [
    "# 標準正規分布とt分布の比較\n",
    "x = np.linspace(-3, 3, 100)\n",
    "z = stats.norm.pdf(x)\n",
    "for dof in range(1, 12, 5):\n",
    "    t = stats.t(dof).pdf(x)\n",
    "    plt.plot(x, t, label=f\"t dist(dof={dof})\")\n",
    "plt.plot(x, z, label=\"std norm\", linewidth=3)\n",
    "plt.legend()"
   ]
  },
  {
   "cell_type": "markdown",
   "metadata": {},
   "source": [
    "## 平均の区間推定(正規分布 vs t分布)"
   ]
  },
  {
   "cell_type": "code",
   "execution_count": 435,
   "metadata": {},
   "outputs": [],
   "source": [
    "column = 'tip'\n",
    "alpha = 0.95\n",
    "n = 50\n",
    "population_mean = df[column].mean() # 母平均\n",
    "\n",
    "sample_df = df.sample(n) # 標本抽出\n",
    "sample_mean = sample_df[column].mean() # 標本平均\n",
    "sample_var = stats.tvar(sample_df[column]) # 標本分散\n",
    "min_val_norm, max_val_norm = stats.norm.interval(alpha, loc=sample_mean, scale=np.sqrt(sample_var/n)) # 正規分布\n",
    "min_val_t, max_val_t = stats.t.interval(alpha, loc=sample_mean, scale=np.sqrt(sample_var/n), df=n-1) # t分布"
   ]
  },
  {
   "cell_type": "code",
   "execution_count": 417,
   "metadata": {},
   "outputs": [
    {
     "name": "stdout",
     "output_type": "stream",
     "text": [
      "2.501018110138121 3.2125818898618794\n"
     ]
    }
   ],
   "source": [
    "# 正規分布の結果\n",
    "print(min_val_norm, max_val_norm)"
   ]
  },
  {
   "cell_type": "code",
   "execution_count": 418,
   "metadata": {},
   "outputs": [
    {
     "name": "stdout",
     "output_type": "stream",
     "text": [
      "2.492012442480681 3.2215875575193196\n"
     ]
    }
   ],
   "source": [
    "# t分布の結果\n",
    "print(min_val_t, max_val_t)"
   ]
  },
  {
   "cell_type": "code",
   "execution_count": 440,
   "metadata": {},
   "outputs": [
    {
     "data": {
      "text/plain": [
       "0.14534469936207878"
      ]
     },
     "execution_count": 440,
     "metadata": {},
     "output_type": "execute_result"
    }
   ],
   "source": [
    "# 標準誤差\n",
    "sample_df[column].sem()"
   ]
  },
  {
   "cell_type": "code",
   "execution_count": 441,
   "metadata": {},
   "outputs": [
    {
     "data": {
      "text/plain": [
       "0.14534469936207878"
      ]
     },
     "execution_count": 441,
     "metadata": {},
     "output_type": "execute_result"
    }
   ],
   "source": [
    "# 標準誤差\n",
    "np.sqrt(sample_var/n)"
   ]
  },
  {
   "cell_type": "markdown",
   "metadata": {},
   "source": [
    "#### めも"
   ]
  },
  {
   "cell_type": "code",
   "execution_count": 456,
   "metadata": {},
   "outputs": [
    {
     "data": {
      "text/plain": [
       "1.9623390808264074"
      ]
     },
     "execution_count": 456,
     "metadata": {},
     "output_type": "execute_result"
    }
   ],
   "source": [
    "# 累積分布関数の逆関数です。指定した確率に対応する確率変数の値を求めます。\n",
    "stats.t.ppf(0.975, 1000)"
   ]
  },
  {
   "cell_type": "markdown",
   "metadata": {},
   "source": [
    "## 比率の差の検定(Z-test)"
   ]
  },
  {
   "cell_type": "markdown",
   "metadata": {},
   "source": [
    "#### 比率の差の標本分布の標準化\n",
    "- 2つの確率変数の差の平均値はそれぞれの平均の差\n",
    "- 独立な二つの確率変数の分散はそれぞれの分散の和"
   ]
  },
  {
   "cell_type": "code",
   "execution_count": 463,
   "metadata": {},
   "outputs": [
    {
     "data": {
      "text/plain": [
       "(-0.3840618481549573, 0.35046630388746547)"
      ]
     },
     "execution_count": 463,
     "metadata": {},
     "output_type": "execute_result"
    }
   ],
   "source": [
    "proportions_ztest([30, 33], [1000, 1000], alternative='smaller')"
   ]
  },
  {
   "cell_type": "code",
   "execution_count": 472,
   "metadata": {},
   "outputs": [
    {
     "data": {
      "text/plain": [
       "(-0.3840618481549573, 0.6495336961125345)"
      ]
     },
     "execution_count": 472,
     "metadata": {},
     "output_type": "execute_result"
    }
   ],
   "source": [
    "proportions_ztest([30, 33], [1000, 1000], alternative='larger')"
   ]
  },
  {
   "cell_type": "code",
   "execution_count": 476,
   "metadata": {},
   "outputs": [
    {
     "name": "stdout",
     "output_type": "stream",
     "text": [
      "Z統計量: -0.3840618481549573\n",
      "p値: 0.35046630388746547\n",
      "p値が0.05以上であるため、帰無仮説を棄却できません。グループAとグループBの成功率に統計的に有意な差は見られません。\n"
     ]
    }
   ],
   "source": [
    "# 検証したいデータ：30人が成功したグループA（サンプルサイズ1000）、33人が成功したグループB（サンプルサイズ1000）\n",
    "count = [30, 33]\n",
    "nobs = [1000, 1000]\n",
    "\n",
    "# 一方の比率が他方より「小さい」かどうかを検証\n",
    "stat, pval = proportions_ztest(count, nobs, alternative='smaller')\n",
    "\n",
    "# 結果をプリント\n",
    "print(f\"Z統計量: {stat}\")\n",
    "print(f\"p値: {pval}\")\n",
    "\n",
    "# 有意水準を0.05とした場合の判断\n",
    "if pval < 0.05:\n",
    "    print(\"p値が0.05より小さいため、帰無仮説を棄却します。グループAの成功率はグループBよりも統計的に有意に小さいと言えます。\")\n",
    "else:\n",
    "    print(\"p値が0.05以上であるため、帰無仮説を棄却できません。グループAとグループBの成功率に統計的に有意な差は見られません。\")\n"
   ]
  },
  {
   "cell_type": "markdown",
   "metadata": {},
   "source": [
    "#### p値\n",
    "- 帰無仮説が正しいとしたときにその検定統計量が得られる確率\n",
    "- Z = -0.38　の p値は p = 0.35\n",
    "- 帰無仮説が正しい時35%の確率でこの結果は起こりうる"
   ]
  },
  {
   "cell_type": "markdown",
   "metadata": {},
   "source": [
    "## 連関の検定"
   ]
  },
  {
   "cell_type": "markdown",
   "metadata": {},
   "source": [
    "#### χ2値が、χ2分布でどれぐらいの確率で得られるかを計算する"
   ]
  },
  {
   "cell_type": "code",
   "execution_count": 474,
   "metadata": {},
   "outputs": [
    {
     "data": {
      "text/plain": [
       "Chi2ContingencyResult(statistic=24.107142857142858, pvalue=9.112167294252327e-07, dof=1, expected_freq=array([[ 6., 14.],\n",
       "       [24., 56.]]))"
      ]
     },
     "execution_count": 474,
     "metadata": {},
     "output_type": "execute_result"
    }
   ],
   "source": [
    "obs = [[15, 5] ,[15, 65]]\n",
    "stats.chi2_contingency(obs, correction=False)"
   ]
  },
  {
   "cell_type": "code",
   "execution_count": 479,
   "metadata": {},
   "outputs": [
    {
     "name": "stdout",
     "output_type": "stream",
     "text": [
      "カイ二乗値:  24.107142857142858\n",
      "p値:  9.112167294252327e-07\n",
      "自由度:  1\n",
      "期待度数: \n",
      " [[ 6. 14.]\n",
      " [24. 56.]]\n",
      "2つのカテゴリ変数は独立ではないと結論されます（有意水準 0.05）。\n"
     ]
    }
   ],
   "source": [
    "# GPT4\n",
    "obs = [[15, 5] ,[15, 65]]\n",
    "\n",
    "chi2, p, dof, expected = stats.chi2_contingency(obs, correction=False)\n",
    "\n",
    "print(\"カイ二乗値: \", chi2)\n",
    "print(\"p値: \", p)\n",
    "print(\"自由度: \", dof)\n",
    "print(\"期待度数: \\n\", expected)\n",
    "\n",
    "# p値に基づく解釈\n",
    "alpha = 0.05\n",
    "if p < alpha:\n",
    "    print(\"2つのカテゴリ変数は独立ではないと結論されます（有意水準 {}）。\".format(alpha))\n",
    "else:\n",
    "    print(\"2つのカテゴリ変数は独立と結論されます（有意水準 {}）。\".format(alpha))\n"
   ]
  },
  {
   "cell_type": "markdown",
   "metadata": {},
   "source": [
    "## Z検定とカイ二乗検定の比較"
   ]
  },
  {
   "cell_type": "markdown",
   "metadata": {},
   "source": [
    "#### 同じことをしている\n",
    "- カイ二乗検定の場合は、対立仮説が”比率差なし”しかできない"
   ]
  },
  {
   "cell_type": "code",
   "execution_count": 490,
   "metadata": {},
   "outputs": [],
   "source": [
    "n = 50\n",
    "sample_df1 = df.sample(n)\n",
    "sample_df2 = df.sample(n)"
   ]
  },
  {
   "cell_type": "code",
   "execution_count": 491,
   "metadata": {},
   "outputs": [],
   "source": [
    "count1 = sample_df1['time'].value_counts()['Dinner']\n",
    "count2 = sample_df2['time'].value_counts()['Dinner']"
   ]
  },
  {
   "cell_type": "code",
   "execution_count": 492,
   "metadata": {},
   "outputs": [
    {
     "data": {
      "text/plain": [
       "(0.6486581250966152, 0.5165593764787644)"
      ]
     },
     "execution_count": 492,
     "metadata": {},
     "output_type": "execute_result"
    }
   ],
   "source": [
    "# Z検定\n",
    "proportions_ztest([count1, count2], [n, n], alternative='two-sided')"
   ]
  },
  {
   "cell_type": "code",
   "execution_count": 493,
   "metadata": {},
   "outputs": [],
   "source": [
    "sample1_freq = sample_df1['time'].value_counts().values\n",
    "sample2_freq = sample_df2['time'].value_counts().values"
   ]
  },
  {
   "cell_type": "code",
   "execution_count": 494,
   "metadata": {},
   "outputs": [
    {
     "data": {
      "text/plain": [
       "Chi2ContingencyResult(statistic=0.42075736325385693, pvalue=0.5165593764787638, dof=1, expected_freq=array([[34.5, 15.5],\n",
       "       [34.5, 15.5]]))"
      ]
     },
     "execution_count": 494,
     "metadata": {},
     "output_type": "execute_result"
    }
   ],
   "source": [
    "# カイ二乗検定\n",
    "stats.chi2_contingency([sample1_freq, sample2_freq], correction=False)"
   ]
  },
  {
   "cell_type": "markdown",
   "metadata": {},
   "source": [
    "## 平均値差の検定(t検定)"
   ]
  },
  {
   "cell_type": "code",
   "execution_count": null,
   "metadata": {},
   "outputs": [],
   "source": []
  }
 ],
 "metadata": {
  "kernelspec": {
   "display_name": "Python 3",
   "language": "python",
   "name": "python3"
  },
  "language_info": {
   "codemirror_mode": {
    "name": "ipython",
    "version": 3
   },
   "file_extension": ".py",
   "mimetype": "text/x-python",
   "name": "python",
   "nbconvert_exporter": "python",
   "pygments_lexer": "ipython3",
   "version": "3.10.11"
  },
  "orig_nbformat": 4
 },
 "nbformat": 4,
 "nbformat_minor": 2
}
