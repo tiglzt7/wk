{
 "cells": [
  {
   "cell_type": "code",
   "execution_count": null,
   "metadata": {},
   "outputs": [],
   "source": [
    "import sys\n",
    "import os\n",
    "\n",
    "# ユーザーのホームディレクトリからの相対パスを取得します\n",
    "libs_path = os.path.join(os.path.expanduser('~'), 'Desktop', 'Python_Lecture', 'libs')\n",
    "\n",
    "# パスをPythonのモジュールパスに追加します\n",
    "sys.path.append(libs_path)\n",
    "\n",
    "# その後で、libsディレクトリにあるcsv_selector.pyをインポートできます\n",
    "from csv_selector import select_and_load_csv\n",
    "\n",
    "# CSV選択と読み込みの関数を呼び出します\n",
    "select_and_load_csv()"
   ]
  },
  {
   "cell_type": "code",
   "execution_count": 1,
   "metadata": {},
   "outputs": [
    {
     "name": "stdout",
     "output_type": "stream",
     "text": [
      "   Unnamed: 0 First Name  Last Name  Gender        Country  Age        Date  \\\n",
      "0           1      Dulce      Abril  Female  United States   32  15/10/2017   \n",
      "1           2       Mara  Hashimoto  Female  Great Britain   25  16/08/2016   \n",
      "2           3     Philip       Gent    Male         France   36  21/05/2015   \n",
      "3           4   Kathleen     Hanner  Female  United States   25  15/10/2017   \n",
      "4           5    Nereida    Magwood  Female  United States   58  16/08/2016   \n",
      "5           6     Gaston      Brumm    Male  United States   24  21/05/2015   \n",
      "6           7       Etta       Hurn  Female  Great Britain   56  15/10/2017   \n",
      "\n",
      "     Id  \n",
      "0  1562  \n",
      "1  1582  \n",
      "2  2587  \n",
      "3  3549  \n",
      "4  2468  \n",
      "5  2554  \n",
      "6  3598  \n",
      "None\n"
     ]
    }
   ],
   "source": [
    "# main.py\n",
    "import sys\n",
    "sys.path.append('../')  # 一階層上のディレクトリを指定\n",
    "\n",
    "from csv_selector import CSVSelector\n",
    "\n",
    "# CSV選択と読み込みのクラスをインスタンス化します\n",
    "selector = CSVSelector()\n",
    "\n",
    "# CSV選択と読み込みの関数を呼び出します\n",
    "df1 = selector.select_and_load_csv()\n",
    "print(df1)\n",
    "\n"
   ]
  },
  {
   "cell_type": "code",
   "execution_count": 3,
   "metadata": {},
   "outputs": [
    {
     "name": "stdout",
     "output_type": "stream",
     "text": [
      "None\n"
     ]
    }
   ],
   "source": [
    "# 必要に応じて、同じクラスの新しいインスタンスを作成して、別のデータフレームを取得することもできます。\n",
    "selector2 = CSVSelector()\n",
    "df2 = selector2.select_and_load_csv()\n",
    "print(df2)"
   ]
  },
  {
   "cell_type": "code",
   "execution_count": null,
   "metadata": {},
   "outputs": [],
   "source": []
  },
  {
   "cell_type": "code",
   "execution_count": null,
   "metadata": {},
   "outputs": [],
   "source": []
  }
 ],
 "metadata": {
  "kernelspec": {
   "display_name": "anaconda",
   "language": "python",
   "name": "python3"
  },
  "language_info": {
   "codemirror_mode": {
    "name": "ipython",
    "version": 3
   },
   "file_extension": ".py",
   "mimetype": "text/x-python",
   "name": "python",
   "nbconvert_exporter": "python",
   "pygments_lexer": "ipython3",
   "version": "3.10.11"
  },
  "orig_nbformat": 4
 },
 "nbformat": 4,
 "nbformat_minor": 2
}
