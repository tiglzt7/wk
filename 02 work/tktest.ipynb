{
 "cells": [
  {
   "cell_type": "code",
   "execution_count": 6,
   "metadata": {},
   "outputs": [],
   "source": [
    "import pandas as pd\n",
    "from tkinter import Tk, Text\n",
    "from tkinterdnd2 import TkinterDnD, DND_FILES\n",
    "\n",
    "def drop(event):\n",
    "    # ドロップされたファイルのパスを取得\n",
    "    filepaths = event.data\n",
    "\n",
    "    # Debug: ドロップされたファイルのパスをそのまま表示\n",
    "    text.insert('end', f\"Debug: {filepaths}\\n\")\n",
    "\n",
    "    # セット（波括弧）を削除\n",
    "    filepaths = filepaths.strip('{}')\n",
    "\n",
    "    # セミコロンで分割して各ファイルについて処理\n",
    "    for filepath in filepaths.split(';'):\n",
    "        filepath = filepath.strip()\n",
    "        # パスからファイルを読み込む\n",
    "        try:\n",
    "            if filepath.endswith('.csv'):\n",
    "                df = pd.read_csv(filepath)\n",
    "            elif filepath.endswith('.xlsx'):\n",
    "                df = pd.read_excel(filepath)\n",
    "            else:\n",
    "                text.insert('end', f'Unsupported file format: {filepath}\\n')\n",
    "                continue\n",
    "            text.insert('end', str(df.head()) + '\\n')  # 最初の5行を表示\n",
    "        except Exception as e:\n",
    "            text.insert('end', f\"An error occurred: {str(e)}\\n\")\n",
    "\n",
    "root = TkinterDnD.Tk()\n",
    "text = Text(root, height=15, width=80)\n",
    "text.pack()\n",
    "\n",
    "root.drop_target_register(DND_FILES)\n",
    "root.dnd_bind('<<Drop>>', drop)\n",
    "\n",
    "root.mainloop()\n"
   ]
  },
  {
   "cell_type": "code",
   "execution_count": null,
   "metadata": {},
   "outputs": [],
   "source": []
  }
 ],
 "metadata": {
  "kernelspec": {
   "display_name": "Python 3",
   "language": "python",
   "name": "python3"
  },
  "language_info": {
   "codemirror_mode": {
    "name": "ipython",
    "version": 3
   },
   "file_extension": ".py",
   "mimetype": "text/x-python",
   "name": "python",
   "nbconvert_exporter": "python",
   "pygments_lexer": "ipython3",
   "version": "3.10.11"
  },
  "orig_nbformat": 4
 },
 "nbformat": 4,
 "nbformat_minor": 2
}
