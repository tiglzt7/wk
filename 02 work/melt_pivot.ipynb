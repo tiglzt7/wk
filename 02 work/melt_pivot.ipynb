{
 "cells": [
  {
   "cell_type": "code",
   "execution_count": null,
   "metadata": {},
   "outputs": [],
   "source": [
    "import re\n",
    "import numpy as np\n",
    "from scipy.interpolate import UnivariateSpline\n",
    "import pandas as pd\n",
    "import tkinter as tk\n",
    "from tkinter import filedialog\n",
    "import matplotlib.pyplot as plt\n",
    "import seaborn as sns\n",
    "import kw"
   ]
  },
  {
   "cell_type": "code",
   "execution_count": null,
   "metadata": {},
   "outputs": [],
   "source": [
    "# データの読み込み\n",
    "\n",
    "data = kw.getdf_xlsx()['sheet1']\n",
    "data.head(2)"
   ]
  },
  {
   "cell_type": "code",
   "execution_count": null,
   "metadata": {},
   "outputs": [],
   "source": [
    "melted_df = pd.melt(data, id_vars=['TESTDATE', 'test_no'], \n",
    "                    value_vars=['capacity', 'total_head', 'current', 'output', 'shaft_power','theoretical_power', 'pump_eff'],\n",
    "                    var_name='label', value_name='value')"
   ]
  },
  {
   "cell_type": "code",
   "execution_count": null,
   "metadata": {},
   "outputs": [],
   "source": [
    "# Group by the TESTDATE, label, and test_no, and calculate the mean of the duplicate values\n",
    "aggregated_df = melted_df.groupby(['TESTDATE', 'label', 'test_no'], as_index=False).mean()\n",
    "aggregated_df"
   ]
  },
  {
   "cell_type": "code",
   "execution_count": null,
   "metadata": {},
   "outputs": [],
   "source": [
    "# Pivot the aggregated DataFrame into the desired format\n",
    "pivoted_df = aggregated_df.pivot(index=['TESTDATE', 'label'], columns='test_no', values='value').reset_index()\n",
    "\n",
    "# Preview the transformed DataFrame\n",
    "pivoted_df.head()"
   ]
  },
  {
   "cell_type": "code",
   "execution_count": null,
   "metadata": {},
   "outputs": [],
   "source": [
    "# Pivot the aggregated DataFrame into the desired format\n",
    "pivoted_df = aggregated_df.pivot(index=['TESTDATE', 'label'], columns='test_no', values='value').reset_index()\n",
    "\n",
    "# Preview the transformed DataFrame\n",
    "pivoted_df.head()"
   ]
  },
  {
   "cell_type": "code",
   "execution_count": null,
   "metadata": {},
   "outputs": [],
   "source": [
    "dict = {'sheet1': pivoted_df}\n",
    "kw.writedf_xlsx(dict)"
   ]
  },
  {
   "cell_type": "code",
   "execution_count": null,
   "metadata": {},
   "outputs": [],
   "source": [
    "# Step 1: Use `melt` to convert sheet2 data to long format\n",
    "melted_df2 = pivoted_df.melt(id_vars=[\"TESTDATE\", \"label\"], \n",
    "                            value_vars=[1, 2, 3, 4, 5, 6], \n",
    "                            var_name=\"test_no\", \n",
    "                            value_name=\"value\")"
   ]
  },
  {
   "cell_type": "code",
   "execution_count": null,
   "metadata": {},
   "outputs": [],
   "source": [
    "# Ensure the data types are consistent for further processing\n",
    "melted_df2[\"test_no\"] = melted_df2[\"test_no\"].astype(int)"
   ]
  },
  {
   "cell_type": "code",
   "execution_count": null,
   "metadata": {},
   "outputs": [],
   "source": [
    "# Step 2: Use `pivot` to reshape the long data into the format of sheet1\n",
    "pivoted_df2 = melted_df2.pivot(index=[\"TESTDATE\", \"test_no\"], \n",
    "                                     columns=\"label\", \n",
    "                                     values=\"value\").reset_index()\n",
    "pivoted_df2.head()"
   ]
  }
 ],
 "metadata": {
  "kernelspec": {
   "display_name": "Python 3",
   "language": "python",
   "name": "python3"
  },
  "language_info": {
   "codemirror_mode": {
    "name": "ipython",
    "version": 3
   },
   "file_extension": ".py",
   "mimetype": "text/x-python",
   "name": "python",
   "nbconvert_exporter": "python",
   "pygments_lexer": "ipython3",
   "version": "3.10.11"
  },
  "orig_nbformat": 4
 },
 "nbformat": 4,
 "nbformat_minor": 2
}
