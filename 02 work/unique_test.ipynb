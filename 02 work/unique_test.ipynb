{
 "cells": [
  {
   "cell_type": "code",
   "execution_count": 6,
   "metadata": {},
   "outputs": [],
   "source": [
    "import numpy as np\n",
    "import pandas as pd\n",
    "import tkinter as tk\n",
    "from tkinter import filedialog"
   ]
  },
  {
   "cell_type": "code",
   "execution_count": null,
   "metadata": {},
   "outputs": [],
   "source": []
  },
  {
   "cell_type": "code",
   "execution_count": null,
   "metadata": {},
   "outputs": [],
   "source": [
    "# データフレーム df1 を作成\n",
    "data1 = {\n",
    "    'A': ['group1', 'group1', 'group2', 'group2', 'group3'],\n",
    "    'B': ['value1', 'value2', 'value3', 'value4', 'value5'],\n",
    "    'c': ['c1', 'c2', 'c3', 'c4', 'c5'],\n",
    "    'd': ['d1', 'd2', 'd3', 'd4', 'd5'],\n",
    "    'e': ['e1', 'e2', 'e3', 'e4', 'e5']\n",
    "}\n",
    "df1 = pd.DataFrame(data1)\n",
    "\n",
    "# データフレーム df2 を作成\n",
    "data2 = {\n",
    "    'A': ['group1', 'group1', 'group2', 'group2', 'group3'],\n",
    "    'B': ['value1', 'value2', 'value3', 'value4', 'value8'],\n",
    "    'c': ['c1', 'c6', 'c7', 'c8', 'c8'],\n",
    "    'd': ['d1', 'd6', 'd7', 'd8', 'd8'],\n",
    "    'e': ['e1', 'e6', 'e7', 'e8', 'e8']\n",
    "}\n",
    "df2 = pd.DataFrame(data2)\n"
   ]
  },
  {
   "cell_type": "code",
   "execution_count": null,
   "metadata": {},
   "outputs": [],
   "source": [
    "# df1, df2は比較したい2つのデータフレーム\n",
    "# 'A'はグループ化するカラム、'B'は比較するカラム\n",
    "\n",
    "# Step 1: カラムAでグループ化\n",
    "grouped1 = df1.groupby('A')\n",
    "grouped2 = df2.groupby('A')"
   ]
  },
  {
   "cell_type": "code",
   "execution_count": null,
   "metadata": {},
   "outputs": [],
   "source": [
    "# Step 2: グループ化した後、カラムBの値を比較し、片方にしかない値を取り出す\n",
    "unique_to_df1 = grouped1['B'].apply(lambda x: x[~x.isin(df2[df2['A']==x.name]['B'])])\n",
    "unique_to_df2 = grouped2['B'].apply(lambda x: x[~x.isin(df1[df1['A']==x.name]['B'])])"
   ]
  },
  {
   "cell_type": "code",
   "execution_count": null,
   "metadata": {},
   "outputs": [],
   "source": [
    "print(unique_to_df1)\n",
    "print(unique_to_df2)"
   ]
  },
  {
   "cell_type": "code",
   "execution_count": null,
   "metadata": {},
   "outputs": [],
   "source": [
    "unique_to_df1.reset_index()"
   ]
  },
  {
   "cell_type": "code",
   "execution_count": null,
   "metadata": {},
   "outputs": [],
   "source": [
    "# Step 3: カラムBの値が同じ場合、その他のカラム（c, d, eなど）の値を比較する\n",
    "merged = pd.merge(df1, df2, on=['A', 'B'], suffixes=('_df1', '_df2'))\n",
    "comparison_columns = ['c', 'd', 'e']  # ここに比較したいカラムを指定\n",
    "for col in comparison_columns:\n",
    "    differences = merged[merged[col+'_df1'] != merged[col+'_df2']]\n",
    "    print(differences)  # カラムc, d, eにおける違いを表示"
   ]
  },
  {
   "cell_type": "code",
   "execution_count": null,
   "metadata": {},
   "outputs": [],
   "source": [
    "differences = merged[(merged['c_df1'] != merged['c_df2']) | \n",
    "                     (merged['d_df1'] != merged['d_df2']) | \n",
    "                     (merged['e_df1'] != merged['e_df2'])]\n",
    "print(differences)\n"
   ]
  },
  {
   "cell_type": "code",
   "execution_count": 3,
   "metadata": {},
   "outputs": [],
   "source": [
    "\n"
   ]
  },
  {
   "cell_type": "code",
   "execution_count": 4,
   "metadata": {},
   "outputs": [
    {
     "name": "stdout",
     "output_type": "stream",
     "text": [
      "Unique to df1:\n",
      "        A       B   C   D\n",
      "0  group1  value1  c1  d1\n",
      "1  group1  value2  c2  d2\n",
      "2  group2  value3  c3  d3\n",
      "3  group2  value4  c4  d4\n",
      "0  group1  value1  c5  d5\n",
      "1  group1  value5  c6  d6\n",
      "2  group2  value6  c7  d7\n",
      "3  group2  value7  c8  d8\n",
      "\n",
      "Unique to df2:\n",
      "        A       B   C   D\n",
      "0  group1  value1  c1  d1\n",
      "1  group1  value2  c2  d2\n",
      "2  group2  value3  c3  d3\n",
      "3  group2  value4  c4  d4\n",
      "0  group1  value1  c5  d5\n",
      "1  group1  value5  c6  d6\n",
      "2  group2  value6  c7  d7\n",
      "3  group2  value7  c8  d8\n"
     ]
    }
   ],
   "source": [
    "def get_unique_rows(df1, df2, group_columns, unique_columns):\n",
    "    # df1とdf2を連結し、重複する行を除去（df1にもdf2にも存在する行を除去）\n",
    "    concat_df = pd.concat([df1, df2])\n",
    "    concat_df = concat_df.drop_duplicates(subset=group_columns+unique_columns, keep=False)\n",
    "\n",
    "    # 連結したデータフレームから、df1とdf2の元のインデックスに基づいてそれぞれの固有の行を抽出\n",
    "    unique_to_df1 = concat_df[concat_df.index.isin(df1.index)]\n",
    "    unique_to_df2 = concat_df[concat_df.index.isin(df2.index)]\n",
    "\n",
    "    return unique_to_df1, unique_to_df2\n",
    "\n",
    "# 以下のように呼び出します\n",
    "unique_to_df1, unique_to_df2 = get_unique_rows(df1, df2, ['A', 'B'], ['C'])\n",
    "\n",
    "# テストデータフレームの作成\n",
    "df1 = pd.DataFrame({\n",
    "    'A': ['group1', 'group1', 'group2', 'group2'],\n",
    "    'B': ['value1', 'value2', 'value3', 'value4'],\n",
    "    'C': ['c1', 'c2', 'c3', 'c4'],\n",
    "    'D': ['d1', 'd2', 'd3', 'd4']\n",
    "})\n",
    "\n",
    "df2 = pd.DataFrame({\n",
    "    'A': ['group1', 'group1', 'group2', 'group2'],\n",
    "    'B': ['value1', 'value5', 'value6', 'value7'],\n",
    "    'C': ['c5', 'c6', 'c7', 'c8'],\n",
    "    'D': ['d5', 'd6', 'd7', 'd8']\n",
    "})\n",
    "\n",
    "# グループ化と固有の行の取得\n",
    "group_columns = ['A', 'B']\n",
    "unique_columns = ['C', 'D']\n",
    "unique_to_df1, unique_to_df2 = get_unique_rows(df1, df2, group_columns, unique_columns)\n",
    "\n",
    "print(\"Unique to df1:\")\n",
    "print(unique_to_df1)\n",
    "\n",
    "print(\"\\nUnique to df2:\")\n",
    "print(unique_to_df2)"
   ]
  },
  {
   "cell_type": "code",
   "execution_count": 8,
   "metadata": {},
   "outputs": [],
   "source": [
    "# データフレームの作成\n",
    "import pandas as pd\n",
    "\n",
    "# db1の作成\n",
    "db1 = pd.DataFrame({\n",
    "    'A': ['a1', 'a2', 'a3'],\n",
    "    'B': ['b1', 'b2', 'b3'],\n",
    "    'C': ['c1', 'c2', 'c3'],\n",
    "})\n",
    "\n",
    "# db2の作成\n",
    "db2 = pd.DataFrame({\n",
    "    'A': ['a4', 'a5', 'a6'],\n",
    "    'B': ['b4', 'b5', 'b6'],\n",
    "    'C': ['c4', 'c5', 'c6'],\n",
    "})\n",
    "\n",
    "# db3の作成\n",
    "db3 = pd.DataFrame({\n",
    "    'B': ['a1', 'a2', 'a3', 'a4', 'a5', 'a6'],\n",
    "    'C': ['a7', 'a8', 'a9', 'a10', 'a11', 'a12'],\n",
    "})\n"
   ]
  },
  {
   "cell_type": "code",
   "execution_count": 10,
   "metadata": {},
   "outputs": [],
   "source": [
    "# db1とdb3をカラムA（db1）とカラムB（db3）を基に結合\n",
    "db1 = db1.merge(db3, left_on='A', right_on='B', how='left')\n",
    "\n",
    "# db1のカラムAをdb3のカラムCの値で更新\n",
    "db1['A'] = db1['C_y']\n",
    "\n",
    "# db2とdb3をカラムA（db2）とカラムC（db3）を基に結合\n",
    "db2 = db2.merge(db3, left_on='A', right_on='C', how='left')\n",
    "\n",
    "# db2のカラムAをdb3のカラムBの値で更新\n",
    "db2['A'] = db2['B_y']"
   ]
  },
  {
   "cell_type": "code",
   "execution_count": 15,
   "metadata": {},
   "outputs": [
    {
     "data": {
      "text/html": [
       "<div>\n",
       "<style scoped>\n",
       "    .dataframe tbody tr th:only-of-type {\n",
       "        vertical-align: middle;\n",
       "    }\n",
       "\n",
       "    .dataframe tbody tr th {\n",
       "        vertical-align: top;\n",
       "    }\n",
       "\n",
       "    .dataframe thead th {\n",
       "        text-align: right;\n",
       "    }\n",
       "</style>\n",
       "<table border=\"1\" class=\"dataframe\">\n",
       "  <thead>\n",
       "    <tr style=\"text-align: right;\">\n",
       "      <th></th>\n",
       "      <th>A</th>\n",
       "      <th>B_x</th>\n",
       "      <th>C_x</th>\n",
       "      <th>B_y</th>\n",
       "      <th>C_y</th>\n",
       "      <th>B</th>\n",
       "      <th>C</th>\n",
       "    </tr>\n",
       "  </thead>\n",
       "  <tbody>\n",
       "    <tr>\n",
       "      <th>0</th>\n",
       "      <td>a7</td>\n",
       "      <td>b1</td>\n",
       "      <td>c1</td>\n",
       "      <td>a1</td>\n",
       "      <td>a7</td>\n",
       "      <td>a1</td>\n",
       "      <td>a7</td>\n",
       "    </tr>\n",
       "    <tr>\n",
       "      <th>1</th>\n",
       "      <td>a8</td>\n",
       "      <td>b2</td>\n",
       "      <td>c2</td>\n",
       "      <td>a2</td>\n",
       "      <td>a8</td>\n",
       "      <td>a2</td>\n",
       "      <td>a8</td>\n",
       "    </tr>\n",
       "    <tr>\n",
       "      <th>2</th>\n",
       "      <td>a9</td>\n",
       "      <td>b3</td>\n",
       "      <td>c3</td>\n",
       "      <td>a3</td>\n",
       "      <td>a9</td>\n",
       "      <td>a3</td>\n",
       "      <td>a9</td>\n",
       "    </tr>\n",
       "  </tbody>\n",
       "</table>\n",
       "</div>"
      ],
      "text/plain": [
       "    A B_x C_x B_y C_y   B   C\n",
       "0  a7  b1  c1  a1  a7  a1  a7\n",
       "1  a8  b2  c2  a2  a8  a2  a8\n",
       "2  a9  b3  c3  a3  a9  a3  a9"
      ]
     },
     "execution_count": 15,
     "metadata": {},
     "output_type": "execute_result"
    }
   ],
   "source": [
    "db1"
   ]
  }
 ],
 "metadata": {
  "kernelspec": {
   "display_name": "anaconda",
   "language": "python",
   "name": "python3"
  },
  "language_info": {
   "codemirror_mode": {
    "name": "ipython",
    "version": 3
   },
   "file_extension": ".py",
   "mimetype": "text/x-python",
   "name": "python",
   "nbconvert_exporter": "python",
   "pygments_lexer": "ipython3",
   "version": "3.10.11"
  },
  "orig_nbformat": 4
 },
 "nbformat": 4,
 "nbformat_minor": 2
}
