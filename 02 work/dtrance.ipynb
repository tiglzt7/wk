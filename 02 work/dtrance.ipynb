{
 "cells": [
  {
   "cell_type": "code",
   "execution_count": null,
   "metadata": {},
   "outputs": [],
   "source": [
    "import re\n",
    "import numpy as np\n",
    "import pandas as pd\n",
    "import kw"
   ]
  },
  {
   "cell_type": "code",
   "execution_count": null,
   "metadata": {},
   "outputs": [],
   "source": [
    "before_df = kw.getdf_csv()"
   ]
  },
  {
   "cell_type": "code",
   "execution_count": null,
   "metadata": {},
   "outputs": [],
   "source": [
    "# 最大値の版数に絞る\n",
    "df_main = before_df[before_df[\"版数\"] == before_df('品番')['版数'].transform('max')]\n",
    "df_main"
   ]
  },
  {
   "cell_type": "code",
   "execution_count": null,
   "metadata": {},
   "outputs": [],
   "source": [
    "# テスト結果の列名を変更\n",
    "test_cols_name_dict = {\n",
    "    '2': 'total_head',\n",
    "    '3': 'revolution',\n",
    "    '4': 'current',\n",
    "    '5': 'shaft_power',\n",
    "    '6': 'input',\n",
    "    '7': 'input2',\n",
    "    '8': 'voltage',\n",
    "    '9': 'theorical_power',\n",
    "    '10': 'motor_eff',\n",
    "    '11': 'pump_eff',\n",
    "}   "
   ]
  },
  {
   "cell_type": "code",
   "execution_count": null,
   "metadata": {},
   "outputs": [],
   "source": [
    "models = df_main['品番'].unique()"
   ]
  },
  {
   "cell_type": "code",
   "execution_count": null,
   "metadata": {},
   "outputs": [],
   "source": [
    "df_list = []\n",
    "\n",
    "for model in models:\n",
    "    df = df_main[df_main['品番'] == model]\n",
    "    df_capacity = df[df['Y軸計測項目区分'] == ' '].reset_index(drop=True)\n",
    "    df_capacity = df_capacity.rename(columns={'X軸項目値': 'capacity'})\n",
    "    \n",
    "    for key, value in test_cols_name_dict.items():\n",
    "        df_capacity[value] = df[df['Y軸計測項目区分'] == key]['Y軸計測値'].reset_index(drop=True)\n",
    "        \n",
    "        df_list.append(df_capacity)\n",
    "        \n",
    "df_final = pd.concat(df_list)"
   ]
  }
 ],
 "metadata": {
  "kernelspec": {
   "display_name": "Python 3",
   "language": "python",
   "name": "python3"
  },
  "language_info": {
   "codemirror_mode": {
    "name": "ipython",
    "version": 3
   },
   "file_extension": ".py",
   "mimetype": "text/x-python",
   "name": "python",
   "nbconvert_exporter": "python",
   "pygments_lexer": "ipython3",
   "version": "3.10.11"
  },
  "orig_nbformat": 4
 },
 "nbformat": 4,
 "nbformat_minor": 2
}
