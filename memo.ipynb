{
 "cells": [
  {
   "attachments": {},
   "cell_type": "markdown",
   "metadata": {},
   "source": [
    "### matplotlibで作成したグラフをexcelに出力する方法\n",
    "- 画像として保存し、Excelに挿入する: Matplotlibの`savefig`関数を使用して、グラフを画像として保存します（例えば、PNG、JPEG、またはPDF形式）。保存した画像をExcelに挿入することで、グラフを表示できます。"
   ]
  },
  {
   "attachments": {},
   "cell_type": "markdown",
   "metadata": {},
   "source": [
    "### pip install numpy scipy matplotlib pandas scikit-learn nltk jupyter"
   ]
  },
  {
   "attachments": {},
   "cell_type": "markdown",
   "metadata": {},
   "source": [
    "### Gitの管理\n",
    "- あるフォルダで `git init` を実行すると、そのフォルダ以下の全てのフォルダとファイルがGitの管理下に置かれます。\n",
    "- 特定の拡張子以外のファイルを除外したい場合、`.gitignore`ファイルを使用してこれを行うことができます。\n",
    "- `git commit` コマンドは、あなたがどのディレクトリにいるかに関係なく、常にGitリポジトリ全体に対して作用します。\n",
    "- `.ipynb` ファイル（Jupyter Notebook）は、通常のテキストファイルとは異なる特殊な構造を持っています。これは、Gitなどの一般的なバージョン管理システムで扱うのが難しくなる一因となります。"
   ]
  },
  {
   "attachments": {},
   "cell_type": "markdown",
   "metadata": {},
   "source": [
    "### pandasでグループ化して結合\n",
    "- pandasでカラムAでグループにして、カラムBで合計した値を、別のデータフレームのカラム同名のカラムBにいれる方法\n",
    "  - groupby を使用した後の結果はSeriesで、これをデータフレームとして扱うため、また他のデータフレームと結合するためには、通常 reset_index を使用してインデックスをリセット（通常のカラムに変換）します。\n",
    "  - `merge`推奨\n",
    "- 特定のカラムだけ結合したい場合はサブデータフレームから必要なカラムだけを選択してからマージする"
   ]
  },
  {
   "attachments": {},
   "cell_type": "markdown",
   "metadata": {},
   "source": [
    "### Pythonパッケージ化のフォルダ構成\n",
    "- Pythonで同じ関数を複数人や別のプロジェクトで使用する場合、その関数をパッケージ化することを考えると良いでしょう。"
   ]
  },
  {
   "attachments": {},
   "cell_type": "markdown",
   "metadata": {},
   "source": [
    "### サブフォルダの一覧表示\n",
    "- Pythonの`os`モジュールと`os.path`モジュールを使って、特定のフォルダ下に存在する全ての下位フォルダを列挙することができます。"
   ]
  },
  {
   "attachments": {},
   "cell_type": "markdown",
   "metadata": {},
   "source": [
    "### pandasで、カラムを使用した四則演算ができますが、excelに出力した時に数式として出力する方法はありますか\n",
    "- `openpyxl`や`xlsxwriter`といったExcelの操作に関するPythonライブラリを使うことで、Excelシートに数式を入れることが可能です。"
   ]
  },
  {
   "attachments": {},
   "cell_type": "markdown",
   "metadata": {},
   "source": [
    "### Pandasデータフレームにカラムを追加\n",
    "- df['新しいカラム1'] = np.nan\n",
    "- df['新しいカラム1'] = 0\n",
    "- 複数追加する場合は for文"
   ]
  },
  {
   "attachments": {},
   "cell_type": "markdown",
   "metadata": {},
   "source": [
    "### カラムの並び替え\n",
    "- `df.reindex()`メソッドを使用します。\n",
    "- `reindex()`メソッドで新たなカラムのリストを指定する際、元のデータフレームに存在するカラムがリストに含まれていない場合、そのカラムは新しいデータフレームから削除されます。"
   ]
  },
  {
   "attachments": {},
   "cell_type": "markdown",
   "metadata": {},
   "source": [
    "### カラムのNaNを0にする\n",
    "- df['新しいカラム'] = df['新しいカラム'].fillna(0)"
   ]
  },
  {
   "attachments": {},
   "cell_type": "markdown",
   "metadata": {},
   "source": [
    "### 積とアウターマージ\n",
    "- そもそも列追加はdf['C'] = [4, 5, 6]\n",
    "- Pandasで2つの列の積を取るとは、同じ行にある各値を掛け合わせ、その結果を新しい列に保存することを意味します。\n",
    "- df['C'] = df['B'] * df['A']で追加できる\n",
    "  - 複数追加する場合は for文\n",
    "  - 複雑な追加処理を行いたい場合assignメソッドとリスト内包表記を使うと良いでしょう。\n",
    "  - df['C'] = df[['A', 'B']]のようなコードはエラーを出します。それは各行に対応する値が一つずつ必要だからです。\n"
   ]
  },
  {
   "attachments": {},
   "cell_type": "markdown",
   "metadata": {},
   "source": [
    "### 特定の列の先頭8文字を取り出して結合\n",
    "- キー列の先頭8文字を切り出して新しい列を作成し、マージする"
   ]
  },
  {
   "attachments": {},
   "cell_type": "markdown",
   "metadata": {},
   "source": []
  },
  {
   "attachments": {},
   "cell_type": "markdown",
   "metadata": {},
   "source": [
    "### 削除条件を満たす行を削除\n",
    "- dropを使用するか、倫理和で行う\n",
    "  - `drop`メソッド：この方法は非常に直感的で、削除したい行のインデックスを指定するだけです。これは一部の行を削除したい場合に特に便利で、特にインデックスが既知の場合や一部の条件に基づいて行を削除する場合に有用です。\n",
    "  \n",
    "  - 例：`df = df.drop(index_to_drop)`\n",
    "\n",
    "\n",
    "  -ブールインデックス：この方法では、削除したい行ではなく保持したい行を選択します。これは、特定の条件を満たす行を保持する場合に便利です。\n",
    "\n",
    "  - 例：`df = df[df['column'] > 0]`（'column'が0より大きいすべての行を保持）"
   ]
  },
  {
   "attachments": {},
   "cell_type": "markdown",
   "metadata": {},
   "source": [
    "### VSCode 同期機能"
   ]
  },
  {
   "attachments": {},
   "cell_type": "markdown",
   "metadata": {},
   "source": [
    "# pipをupdate\n",
    "Windows  \n",
    "python -m pip install --upgrade pip\n",
    "\n",
    "macOS/Linux  \n",
    "pip install --upgrade pip"
   ]
  },
  {
   "attachments": {},
   "cell_type": "markdown",
   "metadata": {},
   "source": [
    "### os.path.dirname(__file__)について\n",
    "パスを取得する方法今度見る"
   ]
  },
  {
   "attachments": {},
   "cell_type": "markdown",
   "metadata": {},
   "source": [
    "### Access クエリ種類"
   ]
  },
  {
   "attachments": {},
   "cell_type": "markdown",
   "metadata": {},
   "source": [
    "### 科学技術、数値計算関連のpython ライブラリをできるだけ多く挙げて概要とともに表にまとめてください"
   ]
  },
  {
   "attachments": {},
   "cell_type": "markdown",
   "metadata": {},
   "source": [
    "### python api"
   ]
  },
  {
   "attachments": {},
   "cell_type": "markdown",
   "metadata": {},
   "source": [
    "### VSCodeのフォルダ構成\n",
    "projectごとに設定する方法"
   ]
  },
  {
   "attachments": {},
   "cell_type": "markdown",
   "metadata": {},
   "source": [
    "## ポンプのオブジェクト指向"
   ]
  },
  {
   "attachments": {},
   "cell_type": "markdown",
   "metadata": {},
   "source": [
    "### Args & kwargs\n",
    "- 関数における構文\n",
    "- 任意の数の引数とキーワード引数を渡すため\n",
    "- 引数が決まっている場合は明示的に示したほうが良い"
   ]
  },
  {
   "attachments": {},
   "cell_type": "markdown",
   "metadata": {},
   "source": []
  }
 ],
 "metadata": {
  "kernelspec": {
   "display_name": "anaconda",
   "language": "python",
   "name": "python3"
  },
  "language_info": {
   "name": "python",
   "version": "3.10.11"
  },
  "orig_nbformat": 4
 },
 "nbformat": 4,
 "nbformat_minor": 2
}
